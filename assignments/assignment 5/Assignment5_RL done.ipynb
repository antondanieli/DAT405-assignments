{
  "nbformat": 4,
  "nbformat_minor": 0,
  "metadata": {
    "colab": {
      "name": "Assignment5_RL.ipynb",
      "provenance": [],
      "collapsed_sections": []
    },
    "kernelspec": {
      "display_name": "Python 3",
      "language": "python",
      "name": "python3"
    },
    "language_info": {
      "codemirror_mode": {
        "name": "ipython",
        "version": 3
      },
      "file_extension": ".py",
      "mimetype": "text/x-python",
      "name": "python",
      "nbconvert_exporter": "python",
      "pygments_lexer": "ipython3",
      "version": "3.6.10"
    }
  },
  "cells": [
    {
      "cell_type": "markdown",
      "metadata": {
        "id": "0iUmTgzwH7e7"
      },
      "source": [
        "## Question 1"
      ]
    },
    {
      "cell_type": "markdown",
      "metadata": {
        "id": "S-DkqNnL7k4e"
      },
      "source": [
        "# Rasmus Durgé, Anton Danielli\n",
        "## Time spent : 40, 40"
      ]
    },
    {
      "cell_type": "markdown",
      "metadata": {
        "id": "QWPya78-H7e7"
      },
      "source": [
        "In this first question we work with the deterministic MDP, no code is necessary in this part.\n",
        "\n",
        "Setup:\n",
        "\n",
        "* The agent starts in state **S**\n",
        "* The actions possible are **N** (north), **S** (south), **E** (east), and **W** west. \n",
        "* Note, that you cannot move outside the grid, thus all actions are not available in every box.\n",
        "* When reaching **F**, the game ends (absorbing state).\n",
        "* The numbers in the boxes represent the rewards you receive when moving into that box. \n",
        "* Assume no discount in this model: $\\gamma = 1$\n",
        "\n",
        "The reward of a state $r(s=(x, y))$ is given by the values on the grid:\n",
        "    \n",
        "| | | |\n",
        "|----------|----------|---------|\n",
        "|-1 |1|**F**|\n",
        "|0|-1|1|  \n",
        "|-1 |0|-1|  \n",
        "|**S**|-1|1|\n",
        "\n",
        "Let $(x,y)$ denote the position in the grid, such that $S=(0,0)$ and $F=(2,3)$.\n",
        "\n",
        "**1 Answer the following questions (1p)**\n",
        "\n",
        "**a)** What is the optimal path of the MDP above? Is it unique? Submit the path as a single string of directions. E.g. NESW will make a circle.\n",
        "\n",
        "**b)** What is the optimal policy (i.e. the optimal action in each state)?\n",
        "\n",
        "**c)** What is expected total reward for the policy in 1b)?\n"
      ]
    },
    {
      "cell_type": "markdown",
      "metadata": {
        "id": "P1hfecVkmk5A"
      },
      "source": [
        "**1 a)** \n",
        "\n",
        "There are two optimal paths with regards to rewards received. EENNN and EENNWNE. The second path is longer but they both end up with a reward score of 0.\n",
        "\n",
        "**1 b)** When creating a policy we want to get a $\\pi$ that yields the maximal reward $V$. $\\pi$ should tell us what action to take in every state. In this case we create a deterministic policy, i.e. an action is given for every state.\n",
        "We assume that $\\gamma = 1$. Moving in $N,W,E,S$ \\\\\n",
        "1) Always choose best reward. \\\\\n",
        "2) If we recieve the same rewards from every direction, go east. \\\\\n",
        "3) Dont visit previously visited states, or you'll end up in infinite loops.\n",
        "\n",
        "\n",
        "\n",
        "**1 c)**\n",
        "0\n",
        "\n",
        "\n"
      ]
    },
    {
      "cell_type": "markdown",
      "metadata": {
        "id": "ZyQ7IatcH7e7"
      },
      "source": [
        "## Value Iteration"
      ]
    },
    {
      "cell_type": "markdown",
      "metadata": {
        "id": "5NfqElM_H7e7"
      },
      "source": [
        "For larger problems we need to utilize algorithms to determine the optimal policy $\\pi^*$. *Value iteration* is one such algorithm that iteratively computes the value for each state. Recall that for a policy to be optimal, it must satisfy the Bellman equation above, meaning that plugging in a given candidate $V^*$ in the right-hand side (RHS) of the Bellman equation should result in the same $V^*$ on the left-hand side (LHS). This property will form the basis of our algorithm. Essentially, it can be shown that repeated application of the RHS to any intial value function $V^0(s)$ will eventually lead to the value $V$ which statifies the Bellman equation. Hence repeated application of the Bellman equation will also lead to the optimal value function. We can then extract the optimal policy by simply noting what actions that satisfy the equation. The process of repeated application of the Bellman equation what we here call the _value iteration_ algorithm."
      ]
    },
    {
      "cell_type": "markdown",
      "metadata": {
        "id": "4qbn4HjqR2fA"
      },
      "source": [
        "The value iteration algorithm practically procedes as follows:\n",
        "\n",
        "```\n",
        "epsilon is a small value, threshold\n",
        "for x from i to infinity \n",
        "do\n",
        "    for each state s\n",
        "    do\n",
        "        V_k[s] = max_a Σ_s' p(s′|s,a)*(r(a,s,s′) + γ*V_k−1[s′])\n",
        "    end\n",
        "    if  |V_k[s]-V_k-1[s]| < epsilon for all s\n",
        "        for each state s,\n",
        "        do\n",
        "            π(s)=argmax_a ∑_s′ p(s′|s,a)*(r(a,s,s′) + γ*V_k−1[s′])\n",
        "            return π, V_k \n",
        "        end\n",
        "end\n",
        "\n",
        "```\n",
        "\n",
        "\n",
        "\n",
        "\n"
      ]
    },
    {
      "cell_type": "markdown",
      "metadata": {
        "id": "K7hOzat7H7e8"
      },
      "source": [
        "**Example:** We will illustrate the value iteration algorithm by going through two iterations. Below is a 3x3 grid with the rewards given in each state. Assume now that given a certain state $s$ and action $a$, there is a probability of 0.8 that that action will be performed and a probability of 0.2 that no action is taken. For instance, if we take action **E** in state $(x,y)$ we will go to $(x+1,y)$ 80 percent of the time (given that that action is available in that state, that is, we stay on the grid), and remain still 20 percent of the time. We will use have a discount factor $\\gamma = 0.9$. Let the initial value be $V^0(s)=0$ for all states $s\\in S$. \n",
        "\n",
        "| | | |  \n",
        "|----------|----------|---------|  \n",
        "|0|0|0|\n",
        "|0|10|0|  \n",
        "|0|0|0|  \n",
        "\n",
        "\n",
        "**Iteration 1**: The first iteration is trivial, $V^1(s)$ becomes the $\\max_a \\sum_{s'} p(s'|s,a) r(s,a,s')$ since $V^0$ was zero for all $s'$. The updated values for each state become\n",
        "\n",
        "| | | |  \n",
        "|----------|----------|---------|  \n",
        "|0|8|0|\n",
        "|8|2|8|  \n",
        "|0|8|0|  \n",
        "  \n",
        "**Iteration 2**:  \n",
        "  \n",
        "Staring with cell (0,0) (lower left corner): We find the expected value of each move:  \n",
        "Action **S**: 0  \n",
        "Action **E**: 0.8( 0 + 0.9 \\* 8) + 0.2(0 + 0.9 \\* 0) = 5.76  \n",
        "Action **N**: 0.8( 0 + 0.9 \\* 8) + 0.2(0 + 0.9 \\* 0) = 5.76  \n",
        "Action **W**: 0\n",
        "\n",
        "Hence any action between **E** and **N** would be best at this stage.\n",
        "\n",
        "Similarly for cell (1,0):\n",
        "\n",
        "Action **N**: 0.8( 10 + 0.9 \\* 2) + 0.2(0 + 0.9 \\* 8) = 10.88 (Action **N** is the maximizing action)  \n",
        "\n",
        "Similar calculations for remaining cells give us:\n",
        "\n",
        "| | | |  \n",
        "|----------|----------|---------|  \n",
        "|5.76|10.88|5.76|\n",
        "|10.88|8.12|10.88|  \n",
        "|5.76|10.88|5.76|  \n"
      ]
    },
    {
      "cell_type": "markdown",
      "metadata": {
        "id": "ccoMLc71H7e8"
      },
      "source": [
        "## Question 2 \n",
        "\n",
        "**2a)** Implement the value iteration algorithm just described here in python, and show the converging optimal value function and the optimal policy for the above 3x3 grid. Hint: use the pseudo-code above as a starting point, but be sure to explain what every line does.(2.5p)\n",
        "\n",
        "**2b)** Explain why the result of 2a) does not depend on the initial value $V_0$.(0.5p)"
      ]
    },
    {
      "cell_type": "code",
      "metadata": {
        "id": "Jjs_0vxvy5_a"
      },
      "source": [
        "import numpy as np\n",
        "import operator\n",
        "\n",
        "def value_iter():\n",
        "  #set parameters\n",
        "  eps = 0.001\n",
        "  value_matrix = np.zeros((3,3))\n",
        "  policy = np.zeros((3,3),dtype=tuple)\n",
        "  #for x from i to infty\n",
        "  for i in range(0,10000):\n",
        "    prev_matrix = value_matrix.copy()\n",
        "    #for each state S, calculate the new value\n",
        "    for i ,a in enumerate(value_matrix):\n",
        "      for j, b in enumerate(value_matrix):\n",
        "        value_matrix[i,j] = calculate_neighbour(value_matrix,i,j)\n",
        "        #all values created\n",
        "    #create counter, compare values for all states, if the difference between states are below eps we increment counter\n",
        "    #if counter reaches 9 that means the value matrix have converged and we move on, else continue in the big for loop\n",
        "    counter = 0  \n",
        "    for i ,a in enumerate(value_matrix):\n",
        "      for j, b in enumerate(value_matrix):\n",
        "        if(np.abs(value_matrix[i,j] - prev_matrix[i,j]) < eps):\n",
        "          counter = counter + 1\n",
        "    if (counter < 9):\n",
        "      continue\n",
        "    #if we get to else the matrix have converged, go through the matrix and add policys\n",
        "    \n",
        "    for i ,a in enumerate(value_matrix):\n",
        "      for j, b in enumerate(value_matrix):\n",
        "        policy[i,j] = (calculate_policy(value_matrix,i,j))\n",
        "      \n",
        "  return policy, value_matrix\n",
        "      "
      ],
      "execution_count": 68,
      "outputs": []
    },
    {
      "cell_type": "code",
      "metadata": {
        "id": "nBvG3GiZtn8o",
        "colab": {
          "base_uri": "https://localhost:8080/"
        },
        "outputId": "faa5187f-28c0-4dd4-89fe-f8cc42a0f84b"
      },
      "source": [
        "def calculate_neighbour(values,x,y):\n",
        "  reward_matrix = np.zeros((3,3))\n",
        "  reward_matrix[1,1] = 10\n",
        "  stay = 0.2\n",
        "  move = 0.8\n",
        "  gamma = 0.9\n",
        "  north = (-1,0)\n",
        "  east = (0,1)\n",
        "  south = (1,0)\n",
        "  west = (0,-1)\n",
        "  directions = [north,east,south,west]\n",
        "  neighbour_values = []\n",
        "  for i, j in enumerate(directions):\n",
        "    #handle values outside the matrix, i.e. reward(2,3) etc\n",
        "    try:\n",
        "      temp = tuple(map(operator.add,[x,y],j))\n",
        "      #directions[i] = temp\n",
        "      #handle negative values, negative indices are ok but return unexpected things, i.e. returns last element etc\n",
        "      if (temp[0] < 0 or temp[1] < 0):\n",
        "        continue\n",
        "      else:\n",
        "        #if its not negative or outside matrix we assume legal movement, we put this value inside the array, i.e. it becomes an option\n",
        "        #neighbour_values[i] = move * (reward_matrix[temp] + gamma*values[temp]) + stay * (reward_matrix[x,y] + gamma * values[x,y])\n",
        "        neighbour_values.append(move * (reward_matrix[temp] + gamma*values[temp]) + stay * (reward_matrix[x,y] + gamma * values[x,y]))\n",
        "    except:\n",
        "      continue\n",
        "      #neighbour_values.append()\n",
        "      #we do not need to clear since we create new list every call\n",
        "  max = np.max(neighbour_values)\n",
        "  return max\n"
      ],
      "execution_count": 77,
      "outputs": [
        {
          "output_type": "execute_result",
          "data": {
            "text/plain": [
              "2.595324483338453"
            ]
          },
          "metadata": {
            "tags": []
          },
          "execution_count": 77
        }
      ]
    },
    {
      "cell_type": "code",
      "metadata": {
        "id": "al-GZzDHrAo0"
      },
      "source": [
        "def calculate_policy(value_matrix,x,y):\n",
        "  #init  directions and a sorter list\n",
        "  north = (-1,0)\n",
        "  east = (0,1)\n",
        "  south = (1,0)\n",
        "  west = (0,-1)\n",
        "  directions = [north,east,south,west]\n",
        "  sorter = []\n",
        "  #go through the directions (N,E,S,W)\n",
        "  for i , a in enumerate(directions):\n",
        "    #If we move outside the map -> append 0\n",
        "    try:\n",
        "      #temp = the coordinate we get from input + (N,E,S,W)\n",
        "      temp = tuple(map(operator.add,(x,y),a))\n",
        "      #If we get a negative coordinate append 0\n",
        "      if (temp[0] < 0 or temp[1] < 0):\n",
        "        sorter.append(0)\n",
        "      else:\n",
        "        sorter.append(value_matrix[temp])\n",
        "    except:\n",
        "      sorter.append(0)\n",
        "      \n",
        "  #When we have looped over all directions, we get the position of the biggest value.\n",
        "  z = np.argmax(sorter)\n",
        "  z = directions[z]\n",
        "  if (z[0] == -1 and z[1] == 0):\n",
        "    return 'N'\n",
        "  if (z[0] == 0 and z[1] == 1):\n",
        "    return 'E'\n",
        "  if (z[0] == 1 and z[1] == 0):\n",
        "    return 'S'\n",
        "  else:\n",
        "    return 'W'\n",
        "  #return z\n"
      ],
      "execution_count": 86,
      "outputs": []
    },
    {
      "cell_type": "code",
      "metadata": {
        "id": "0KnyfmGNuBtO",
        "colab": {
          "base_uri": "https://localhost:8080/"
        },
        "outputId": "63134a53-0bb7-4abf-da67-4a33de5ab396"
      },
      "source": [
        "#Test\n",
        "print('Policy matrix followed by the converged value matrix')\n",
        "value_iter()\n"
      ],
      "execution_count": 112,
      "outputs": [
        {
          "output_type": "stream",
          "text": [
            "Policy matrix followed by the converged value matrix\n"
          ],
          "name": "stdout"
        },
        {
          "output_type": "execute_result",
          "data": {
            "text/plain": [
              "(array([['E', 'S', 'S'],\n",
              "        ['E', 'N', 'W'],\n",
              "        ['N', 'N', 'N']], dtype=object),\n",
              " array([[45.61292366, 51.94805195, 45.61292366],\n",
              "        [51.94805195, 48.05194805, 51.94805195],\n",
              "        [45.61292366, 51.94805195, 45.61292366]]))"
            ]
          },
          "metadata": {
            "tags": []
          },
          "execution_count": 112
        }
      ]
    },
    {
      "cell_type": "markdown",
      "metadata": {
        "id": "P7WHTCSHpwIw"
      },
      "source": [
        "The result does not depend on the value of $V_{0}$ because we can see from the algorithm that the initial value gets multiplied by the discount factor $\\gamma \\in [0,1]$ in each iteration. In the pseudocode we loop infinitely, (or to convergence)thus the intial value will have a factor $\\gamma^n$ making it converge to $0$"
      ]
    },
    {
      "cell_type": "markdown",
      "metadata": {
        "id": "Qn8ZJf8nvgm_"
      },
      "source": [
        "## Question 3 (1.5p)\n",
        "You are to first familiarize with the framework using its [documentation](http://gym.openai.com/docs/), and then implement the Q-learning algorithm for the Chain enviroment (called 'NChain-v0') using default parameters. Finally print the $Q^*$ table at convergence. Convergence is **not** a constant value, rather a stable plateau with some noise. Take $\\gamma=0.95$. You can refer to the Q-learning (frozen lake) Jupyter notebook shown in class, uploaded on Canvas. Hint: start with a small learning rate."
      ]
    },
    {
      "cell_type": "code",
      "metadata": {
        "id": "Fxh7UrdmPaYU"
      },
      "source": [
        "import gym\n",
        "import random\n",
        "import numpy as np\n",
        "import math\n",
        "\n",
        "env = gym.make('NChain-v0')\n",
        "\n",
        "num_episodes = 2000\n",
        "gamma = 0.95\n",
        "learning_rate = 0.2\n",
        "epsilon = 0.3\n"
      ],
      "execution_count": 110,
      "outputs": []
    },
    {
      "cell_type": "code",
      "metadata": {
        "id": "ZPDDRswddADL"
      },
      "source": [
        "Q = np.zeros((5,2))\n",
        "\n",
        "for _ in range(num_episodes):\n",
        "\tstate = env.reset()\n",
        "\tdone = False\n",
        "\twhile done == False:\n",
        "        # First we select an action:\n",
        "\t\tif random.uniform(0, 1) < epsilon: # Flip a skewed coin\n",
        "\t\t\taction = env.action_space.sample() # Explore action space\n",
        "\t\telse:\n",
        "\t\t\taction = np.argmax(Q[state,:]) # Exploit learned values\n",
        "        # Then we perform the action and receive the feedback from the environment\n",
        "\t\tnew_state, reward, done, info = env.step(action)\n",
        "        # Finally we learn from the experience by updating the Q-value of the selected action\n",
        "\t\tupdate = reward + (gamma*np.max(Q[new_state,:])) - Q[state, action]\n",
        "\t\tQ[state,action] += learning_rate*update \n",
        "\t\tstate = new_state\n",
        "  "
      ],
      "execution_count": 111,
      "outputs": []
    },
    {
      "cell_type": "code",
      "metadata": {
        "colab": {
          "base_uri": "https://localhost:8080/"
        },
        "id": "B8W1RChcfm4I",
        "outputId": "111bc353-95db-4aa6-991f-fe915d19eb3f"
      },
      "source": [
        "Q"
      ],
      "execution_count": 109,
      "outputs": [
        {
          "output_type": "execute_result",
          "data": {
            "text/plain": [
              "array([[44.93242908, 39.75470436],\n",
              "       [50.02572372, 40.05701955],\n",
              "       [53.29189898, 39.37403805],\n",
              "       [47.80395759, 40.24469006],\n",
              "       [46.4294544 , 41.5689417 ]])"
            ]
          },
          "metadata": {
            "tags": []
          },
          "execution_count": 109
        }
      ]
    },
    {
      "cell_type": "markdown",
      "metadata": {
        "id": "5Dr2se0KDVuB"
      },
      "source": [
        "## Question 4\n",
        "\n",
        "**4a)** Define the MDP corresponding to the Chain environment above and verify that the optimal $Q^*$ value obtained using simple Q-learning is the same as the optimal value function $V^*$ for the corresponding MDP's optimal action. Hint: compare values obtained using value iteration and Q-learning."
      ]
    },
    {
      "cell_type": "markdown",
      "metadata": {
        "id": "P5slFrjsBrDX"
      },
      "source": [
        "**4b)** What is the importance of exploration in RL? Explain with an example.\n",
        "\n",
        "Without exploration an algorithm could become hyper focused on one local areas solution with a local optimum. Through exploration and not always choosing the apparent 'correct' state it is possible to find a solution that is more optimized on a global scale. For example, the second solution to 1. a) 'EENNWNE', would not be found with a stricly exploitative strategy since its path could be interpereted as less optimized. Therefor exploration could help find a more diverse range of solutions."
      ]
    },
    {
      "cell_type": "markdown",
      "metadata": {
        "id": "UWUqaN60H7e8"
      },
      "source": [
        "## Question 5\n",
        "\n",
        "**5a)** Give a summary of how a decision tree can be extended to random forests and how they work. (1.25p)\n",
        "\n",
        "Decision tree is a supervised classification and regression method. It has a hierarchical structure where decisions are split in to two or more so called 'branches'. These branches lead into different nodes known as 'leaves'. It's these 'branches' and 'trees' that make up the tree. \n",
        "\n",
        "A use for a decision tree could be to define if a person is fit or not:\n",
        "![decision tree.png](data:image/png;base64,iVBORw0KGgoAAAANSUhEUgAAAacAAAFPCAYAAADp+AF3AAAAAXNSR0IArs4c6QAAAARnQU1BAACxjwv8YQUAAAAJcEhZcwAADsMAAA7DAcdvqGQAAKLSSURBVHhe7J0HYFPFH8e/GU3Tle69CwUKhbJHW0bZe4kCDkRx4fgrioILBbcCDlRQQRBFRFBUEJBdhmxoWQUK3Xs3XWma5P3vLkmbLgRsS4r30UfS9+7du3frd7/f3f0iEgjgcDgcDseMEBs+ORwOh8MxG7hw4nA4HI7ZwYUTh8PhcMwOLpw4HA6HY3bwBREcDueWqLq2B/nHt+Lh1ZdQVlnOzskqguDWtxuGz38aU93FkEvYaQ7npuHCiXNLVJUrUVlejHyJCxysLWBvKTVcaVl09J/SHJSrKlGg7x9rIVjYwdHdAbbi/5aZ4J/yhWLt7gNbqQgyIkB0hanIV8uh0lnA3dMBMnJdTGLRleahVCdHodYCvo5WhjzUoapKi/IzPyLuzzWY90cKkgqqYGtji6psMazDR2HY8y9gTh9XOFlLIGf3cDg3BxdOnFsiaeu7OL3tO9yleQtzx4fho7HtDVdanrNLR+PikSu479ckwxk9Cqu+sHYJxzuxi9DHXg6awv+SgKL5cvyvM3h8d67hTA2Wdh6Y+HMiXuslhp82A7FvR+Gpa5NwThaMo2tnItBGBici3HLWPY5FKR2wXDsYRQujDIMQHQQcxe4VpxD9mwaDvnsEXd3tYF9VBYvDi3DwfAUmzivEwguLERLgiCH6R3I4NwWfc+LcNGxUbiYY06Jw1qLzM5/j41VbsG/fXmz980/8vHgq5g6IwbIpn2PZ2uPYR8KZU9qbF/2bKn380H72uup8MR47t25kgilIIYGtoys6PPEdPn//GUQvGon2VjLYatntjSJCR7Sb8AAe+nIS+jlaw5acs7AgKlibLvANcMJYl504c7YcZxL/ISIOpxG4cOLcNNerNIK6FDoy4k5JSa11FOSXQkn6y8aEA72Pmgqz0tLq3ZdX2bhyb0yLSiwD/HsgYsQgDBgQiVEjhyGyjyuGdJVCFXcWuXHnkVEdD0mFoEZpXmq95yVnFqFMrYXKEJKGo2mj4UpKctlxLSGpOiwNR9OtKayJw3gUV2rYO+shX7SqRp9ZO290LE4aVqlUIjs7t949NE9U1+339TmjUFiipF0YIkb3QeSAASxv6Gd4ZD90dJQwkx4kMti7+yHYxQq+Xq5QiHWQVeSgMC0eKUoBhQUZQGE68tLTWFozymk+OsDf0wFtggJgQyIxmu40Lo6Gb0QwFpehMp8bZji3BhdOnJumphOtDT2vurAV6aseQP/+EQgNDUWHLv0Q1nE6Hl/8M75O1qK0kZtF2dtx8dcPcF+XThjYJYTdS497NlzEV+ca74Ubjo5WazHkXTsjOGoGovI2wrLgGo4c0YLIHYIS6vJ47FwwFPMi+lU/i6YzvN+7WJ2hxGEajMQuiE5CGfMLFobdh28+/gwff/AiunUNQ7eQNzF5xkpsJaHS936Ora/dWx2P8Z1f23qOvbNeiORAlXcaW2dH1Xvm8Env4dcSFS7TYPSZSGN5seHJ4Xhr42Z88OoL+LxXH5YvNO7wiMfxwd/Z2JDdWElQ6lzTGueLxIbc0UM/NUTwnFo8HiPe+wUBHxwiQjEd5377FN/MmoKhb+3Dn+t+g3jlI+y9Jzz2Dqb9lMQEeD20akhjTuFKXAb+yPdHgI8CPl7GJ3E4N4fkTYLhO4dzQ4jIUXTlIDLjY/GzbjDC23tgeDsniApPY/9fl3HszyxUjhmKfr16YGT/vujVvwcGD+qFNgEeCLAUQ2raX1HNRJSO3etPkQ7PFvadQ9Gp3wCEdGiHUZp4HJe3R5WFA0Z0sAe9se6yC5qW7CPrUFBQiGjnyZgQ6gYPOwt2HshFeWoqft92FLpOw+HSrTuivKUovnIKyuM/49PjRG0IHYpxI/sjPDwc4R5W6GibiwtqT2TnV6F7O1dYIxWZCek4uupbHC32Q2a5HTpMGoixvfqiX5QvBvoQQbb2NI6WS+EyfATG9+uHARG90LvHKIQPCUNnb0v4W5bg8h8/Iv7IUXwdL4VXv74YNCgKkZER7JltSTr/TpGjjKTYOcAVLihG6rHDSD8Ujd8LvWApd4aibw90jwhH55BA+KpO4ZLHYEjKyzC0nYvhXesiYvmSrlQj2nEcpnVyMMmX2pSXKZG552usKQtBqbUX3hrlDpmVK6xsLOBF0qK08Uam3xg8dE9/DIschF5hfgjzVLByrKqqgvrsRuz/fR/W/rkTZ/Zvwel8O5R2GIX7RnRCF0crOFuJG0kjh9M4fFjDuWkaHK8LGiILYpB9JQ2b/7bHoIeexzPvvIcFCxbgzdf+h7sGEwHlJKmztJjEJKJLydJw7KwIh1JcMWrBW3iN3PPeS49i5oy+wLVruHDsDDJuYDWgsoqkgWCs1JU5xRARjSm3rAP7281dCrlYjbST23Bs529Y7zAeQZNmkDS+xo65zw3C9CFF+GvXKezavQ9Z2kp2n2VlBfvMyNAiu9wf0xa+hWfenYZnZnZCUEEM/j5WhpyEEEx4ZRGeWbiQvfPCd+/BxI4u6GVNsoZoanF/bcTh9evwh+9jkA59Cm+QcPQ9//dUP0waVI7oj/7Asf2XcYE9qYbLvx/HVefOcHr8Dbz06gK89sRU3NVRhT2xF/HLxQJDqPqYlpGFqhAVBbkoVSqZmZCaSkvKKlkYetRd7l2qc4NNhwj0u+9ZPDbSH12jBkATOQnvkbJ5euYoPNTdo/oeqVCJktg/sXvjGnz88Sd4c+MlbIlJQq+ZjyGyjSs6OEp4J8O5JXi94dw0DVYanb47lIgSoJFsxIljxYi7qjf90PANVzR6VgGRtjuefGsmnn1hLEIMZ6VWZKTfawjCCyrQ/WIC67RLyXE9FBa1BVjBuWPY/ccGbO8wDIqQLpjoTGJO+x3nTmuwYqMMc8f1w6DebUkHTRdN682APnc9jEevHUb4ifPYkSKFtqIclZZWLD7PV57G4Ffux1jyWk7kb12V/nmOyi0okB7A9mgNipTGORb9WwtVaohSj2FnTBhiUsZi2dx+uCcq0HAVsOrUE+0HTsI98qvonpOKJJMFBBIba/T4cCkenTIIT/tJ2NyOs4sbIodPgHNqDuQpKcwUaCqIjNC4GRfjkfXu3Rg3egQ6E62UHv3DnsSgicvwK7ncmHhjS8ktLPV/mGBMd13UnSNQMv1TbDtyDnt+XYdF/SRwshQ1GJbDuRF43eHcNNSUUw+JnPS0Cjh7uKNnt7YoiYtF2qGdOHToCKKvFiCjvIE5CgapguReJyETQm4sDhw4wI4dibsQezETBSl67eWGSD6Fw3/tr45jb2w2kkv9EdZTAddAT8gUJEyFkglQSkZ8GmJOROMQCUuPP88cw5WLeSjKK2LXjRg1J0c7BzjYuTCtgTYciZYILfLOLt3aI6hQBdGFA/jjyD72zqcyK9i8jEhGNcpsdv8ZbyfYOlrB1oZ2/XosbOygdbeBg4sD1F465GTrtT8j3s5ucFS43vRmVqPAEtk7wNLeDiHk2QEBgeyw6OYOhUcl6NIFGQl4/YUV/4xc4YxKGxvyMm5sQYWfny9cuGDi/Et4/eHcNBYWFoZvdfC9G8MfeQgffPQQ7FY/jY+fuxv33TcVsz/ZhR9PZTbSCZLeUatCzE/v4uCy+Rg7dhw77h00B/2f/Bx/FcYhTmKBCsNKu4a0BCMJ387Da/+bVh3HcxvjsUQ7Hd+88zDmDm8PP4OZjqLVpmDLG5Px5t2Taj1z+NR5+KlSi7+d9NpSSpljteZkpDoNctK9k3d+5quX8PKrvZH11mQsmzqevfPd38fgZEoxqspJE1NmMyErpNfshq0WHkRztJZ7oU3AcYjLspGm/OcmqbCuPYOjNnw2hODtCtsXNmPR5h2Ijo5mR8yWj7Dv+1fZ/iMFedzNCL66+S+SSKHw9ER7MiiBrb5eXK+MOJwbhQsnzk1z3c7HsRuE0Jn44PAR7LkajWN/LMWk6JegWv8bFpyorLcsnK4Uw8F3MO9VCd5M6Yvll68w01Di8W249OubmB7WFSHaKliRkTilboU1TUvHp7/Cl3vP4Pz58+w4/fMnOLx4EjrLZcxDBMT6u7VCEKTau/HqH8fYs2jYMzGx1Z+xF9djx/JnMTNQgkCXymrNyUjdNEhlkXAb/irWnb2AU7FrsGHFK7j34yn4addZvHKMCCSvADj5WaJ7zQL16jjofJRcnY5TJ9tBWuyJTk61BU+5ur7oUbKl3DXU6GGN46hrfM7uZjSnevlPNeZuj+GhBx9G0rxIuCuMqwI5nH8Hr0ecm+b6lUYMkcwWHj5epGN3hUs7B3b2kjazQa1ASrQmqEqRZqeGROUOnZMbOnTyY/tubDWFhlBgmlM56crrYhqjyrUNQrw94efnzUxL9KB7cYxmOIYVte0BQdJ4aOzksAzwgA8J1ybIj4Wn+3bo324+PnARGtZJ6nXmpIO2sFaQd/aBo18I2nV0YaeVJGCZiHwnz7R30M/upF/NQmaB1iBUdagqK0FiUj4z61U5uNRbem0tqy96bkRzun4Z1eaGNKfSKpRpRfUGJnS2TlWQhty8AqRm5KJUI5iIYA7n1rmZOszhMBqcc6oHXT4sg07nic4dLNCWriC4DlmFepMQ1ZCoEBIKruDcjh/xR0oCdpDek563/ocFycbVeo1Wa5EUgm8fdO4uRY+eV7BxxzVEn85hHazpPf/UKK7XmYtEzsxM59umFApDQK1HBPoEpKKr31a89tVxbP/7KjtPqbhwErlHd+B91wjkdghCD/eavNWWNewU70Y0p+tqt3X4J81Jnp0OcWYa0gVtvQUUgrocyp0f4ot3F6D/nN8RU1SKnAYGERzOzcKFE+emaXDOiWpApz/HD0vmY+DAgYZjKoaNfhLvqyZBFDaeucuhjkZr4ewP9HwSq2ZewVDderzccwAeGDgIE2Yvxsf20xEJbzyhu7E5J+NqvcbDEIEpeKD94GkY8tobePDyByTJ/yPpjDJJ80B0fW4Fnlq+Hyki/XvWnXMyQj1h4MgHeP6RGSb3T8WIe17GwpD5iOjlh6fDRJCInTDgpWcx7eVnMOHMQhx+92FEsbBRGD3/N8w72wtvf3oPZo1sCw9JzQo5ulqvIW5Vc2osXxoTtmKpBVsx6avOwpADy/DssCg8+7/PMOuP9IY34Roo47uaOE0AF06cm4Z2cjK5FcQiN8DJES62hpFyZRlyY08jKSmx+sjLzUWsVydoHRyYu5x6HaGIaFcuwQhqY4c+7Uuhzk1i9xWVKlElD2ZzNfIgi0bnnCg6mTu8XL3gYqlPx/UqtY48T+7lC+/u/RFoVwGrzLha6T2blIO0K9RlUHGtTtbB0QkBjrU1ArGqmH0WXzlRKw76zpnOPeHL3lnE5mWouc87pA86qUoRnJ5SHfZyuRjZ9m0xvIMX/N2c4GIQIQp3f7bSzs2m9mpFDYlLCTsEutmig4veaVBjc040X2zE7gg0LFS4Xr5I7H3JsxwR6ES95OnDCmJyn6s7OgQ6o9KnHOnpqdhXUcbcEhmhCyJ0li5QuJI8ddXfa8M1J04TwL2Sc24NoilVVapRLrGGtVjQa1PknKDVoERVe4yutrRjGtP1zGHUl5xaJ0axpAq2VRKUWmghs3KEPTmvEixhZ1N/z001hrRUyBU39dMY9JkVtVduM0QG7cWCPFNOhYWgQVkZ0U9kVpBI6ghY8uwyEonWsM+LoqkSQ2drYxCWhtQY5q9YPARjeOOz7GwsyJP0roWo+KfmMo1GB62lgvm/q3kncp9WTfJYLzhtSBobf98iEo8USkEOO0vpdcKROImgLRMroCHdgb0lDWkITdJdpRGhokK/KEQiFkNjUTs+6ntQI7KESq37h/RwODcOF06cW4J2rXXnaupy/at1oaEpt9a13dyzTPl3zzXlemm42fTd+vv8G66XF7cnRZz/Llw4cTgcDsfs4EMhDofD4ZgdXDhxOBwOx+zgwonD4XA4ZgcXThwOh8MxO7hw4nA4HI7ZwYUTh8PhcMwOLpw4HA6HY3Zw4cThcDgcs4MLJw6Hw+GYHVw4cTgcDsfs4MKJw+FwOGYHF04cDofDMTu4cOJwOByO2cGFE4fD4XDMDi6cOBwOh2N2cOHE4XA4HLODCycOh8PhmB1cOHE4HA7H7ODCicPhcDhmBxdOHA6HwzE7uHDicDgcjtnBhROHw+FwzA4unDgcDodjdnDhxOFwOByzgwsnDofD4ZgdXDhxOBwOx+zgwonD4XA4ZgcXThwOh8MxO7hw4nA4HI7ZwYUTh8PhcMwOLpw4HA6HY3Zw4cThcDgcs4MLJw6Hw+GYHVw4cTgcDsfs4MKJw+FwOGYHF04cDofDMTu4cOJwOByO2cGFE4fD4XDMDi6cOBwOh2N2cOHE4XA4HLODCycOh8PhmB1cOHE4HA7H7ODCicPhcDhmBxdOHA6HwzE7uHDicDgcjtnBhROHw+FwzA4unDgcDodjdnDhxOFwOByzQyQQDN85HE4rRVeag5KL27FibybKKyrYOcHCGS4+wQgdPxw9HSRQ8KEopxXBhRPHfNCqUFqYi1KViP0pdfWGk6Wolav3OiI48pBTpIZaV9PUBAs7OLo7wJa8XPX7CWoIVWpk5xTVCmtpKYfEwaXxvCD3qTIv48pP8/DM95eRVFDFTluWKmAdPgrDnn8BD3V1RZCjBHJ2hcMxf7hw4pgN+ZcO49KKB/FKtIALll0xfNFPeK2XGB1Jp9paoRpN3qYXcPenf+PMtTx2TqLrDLfQCLz810L0sZcjhJ0lFJ4CEo/gwUkf4EBxIfJ1+vfuMeElhMyah0X9JHAhAqo2Ogg4iuzYDHw+LxUjl9wFK1dbBMul0J79FieOXMX0Nyvw0p8vouegDhhiuIvDMXckbxIM3zmc24aAFCjTLyN67WGUZpRB5mKJWLcITGlvBw87C9Ttks0BKniUMZvw5fkCXFRaobunreGKkSxU5uVgy+ZE2HfogjZ9e2L4gAEI8RUQkBmHMw4DoHAAuthLIYjScWXXLuzacgBHZD3Rvu9AjBnYGyO9RaiQiPD3VRWC27pBJ5XD2Upskh/6sWWZxhdJ1jqMjOgMJ3s7KOSWsBKlojS/COf37oWk70goXD3R1c4cc5LDqQ+3QnPMhDQUJ2fgbKwTqvr2glfHAKSdP4vUwhLD9TpoVexQKpUNHsWVGqi0hrAEQV2KqvLaYUrKKlGm1hLd42YgmgqJi95fmBaPzKOb8XN0DpZFpxquGyHhhHxIHbNx6aIHht7/OJ555z28tmAB/jexAwb3ysCmgzGIPUe0KR1NQRoSTh3B4S+2ImPQDEQ9/gzefPt1zJk9BF11SchcswyHs3U4UVHXtEcFlQ88fHzwv5mjYGdjWT23JPh6Q65wR7uSqyjOL0Faxs29KYdzO+HCiWMWiI4chEqZjT/s+qBP5ACMaeuJ4O0HUVpein2GMLW4tg5ZP7+Mfn37onPn0FoHPefwxj68u+syCUjNXik4+/N7WDuzT61wPTrMxWNf7GfxE1F3Q6gyLiD3x9mYMaQfxj+5GNO0r2LxfeH4fWaoIYQRIjR0bSCR9MXz6x5Ft2BvtGdnAUc3b3i5egEXk1BWUIwrlRUQ7d+OhDQbrJfci0cmtUWX9k7QSeRQdxmLnr27YF7YNeTkqJiAqS9iGm7GoitxqEg5g3XSHrB3toOlM9eaOK0HLpw4ZoAOysxMZGcWI6tHW7SJUKAt0ZzaVlzCtau5SC02FR2ka1YVIulKNrLyi6C2dkFAQCC8vX0R4GQBJWyQkeKEMDsx/N3siXalRmHycRb3lXxrdGrfqTq8v2cp1DnJOHoqCQXl2kYFFNWUVBnncOjQEew6EY9TiRpYB7WHvZ0Pwrxc4eTlDX9HK0PoGqhwEWS2cHK2hY1MQhobFStFyMoi75mngdjdARIbC9gSmaEsKEGBRgq5qzNsSVy2NjIW3sLGDnJLAS62QLlajWKN9vqNNi+ezd0dOHAAB3fGIS6xFK6O3eBC8qI7yQ4Op7XAhRPHDBAj7lQ0UjLOwmvgADhYDkWAlwsmdDiO87EXsG9HliEcQdBAkMdhxxdnsGFZAR5Y+TvWb9+LQzs3Y8MTXeA/6VkUPf0Gts0ZhFnd3djqv7iP52N1Qgk+DHkL67dsQXR0NA7v/wvrntTAN3c/Xnt5Cy6WlKPU8Ii6VOYlInfjXDwwdhhm/O9VjM5/APe8sQLbfluC76b6oaNjwxoJbVy1GhhNOy4y893mrUnw79MZXQM94aGtQnluMgotypHRzhedpGK4shv0d8us5NCWlSM+JRXZyZnkTOPmuZyti3Bw2XxERQ3GoGc/wYLobPRctRQTwvww2Kn1Lizh/PfgwolzeyFaEFI34vudDtib4YLpvQPh0MEdzraOCBvSHXlpmYi9eg0ppFtnXbKonJmrzirdkVjuBicH0nlL9NXYwz8AOWUkvsJ0pAtaqMvioE3Yi/WHfSG26IG5d3WHVKQXJCILGdyGjEd3hSemxp1FzJViJJap2TUjVVVVUO5YgBO/fodxu7vgmQ1/4OvVP2D/c30R1caJRCIjoeqJoFpQrQunP8fzj8zAwEHDEBH+It4+qMLFqJexenJ7DA2sUWcEW/IydRAJHuzTtYv+U0/DzzOKLEsXH+j6vYuPV23BmuWL2YrHTm71NTsOx5zhwolzW9FUkM47LQEJiVKIc3vBzV0KD40MFvZ+CAr0gZUyCxbxl3G1QIdS2vtq5YCVAvYOBex+Oxnp3A3Lq3Oy8tBepYN3qX4Fm660GGXKAlxJykNhcjxKss/i1FG9yevAwaPYmluC4uJ8OJZfQbZGipLK2pqFhdhkRUWDNK7BNIaFhRRaz0BIvJyQk5JIhHMlcssMArO0iH3Wxd7BBnJdbcHZEMbGLLF1BjoGwCmqN/r16o0OjhIiwA0XOZxWAhdOnNuIjginIqQe34vjvYfhdMcgjAmUwJYIG629DdzCByHsUgocLp7A6WKglC6/E4uhcXGEv64KgdY5SM4pRpGSaFVVlYiPOYLLcjHSfX3QTiqGXGYJW00htNoUxEWvxjf3jWbmLuMxoddjePGXHfipsmEhROeMbEcuQq/JD2LL0LN48+5JeOyh+zHow92ISVWS1P9z8xHJbIHuT2PpyjWIjt7Hjr+eDcMnFl/hiXFfYs5X0djNVusB+Zq6W2R1EERZyM3MR+p5vTD+J9zah8LKisRDnutbpV/ZZzw4nNYE34TLuU3QDjkHWbGHsP/t+Zh3XM0WM4R4OzHtgqFMQ0piNqRtu8PzydX4eJQXengQFSDtd8yb+T5OnrmKlKAweNnoNY9rCTaY9Mk7aN8jADP8HKEoPoXCCwdx38Q/4XRXb3SfPAQ9rfRxl5VXwMZab+oSiy3g0aUv3GxFDbr4oaY5Ou90/GohigvzID29EStiKlAFX7je+wLmDfc1zDvdiAjQQZV9FPlHfsejj5yGzaPTMeGJCRh/6i18+rsKK6IVeCd2kWFzLl1pmIaT33yK2E0/4q/7oxEY7I8P+1qQeBp5Vl48SiHH7hxLZnq0tzTkJYfTyuADKs5tQsz2AVUo85CUUWY4B6SnpyIpKVF/GNzwVGTbIi0vB6VlFWQ4VQ7kZqNMqWDXRIkFLGxebi6s0QY+zlYICXBkboGMKKwC4OXTC059w9F7wABEkmPUyBHskx7hkf0QpGhYMFGo9iP36oQBAyIxrFcwegRK4VJ4GfHpsUjPz8EVotkkF1YaQpugVTHBVpBfyuavGIKGaXRVUv1ck6ysFEWCGAonOzhJNVDl5rPzpcb5L6EEqkoR8koBa5kM9lJqn7tOs7V1gWApRzdHGZtfu3nDI4djHnDhxLk9kI5bdHQrimOP4YPYNhi/9He8Ff03zp07X+s4svxRvDmlFMULV2Jrqhq7s0nnnHMNhyKmYu9jm7D7zHYW7uDB4zh1aTGe7d8BUYZHwLENrIJ7I8r/Z2SkncC3v6SjslJTXenpp+lxffShqJByvXc53vrrbxz94T18rnkXb379K2atP6cPZkrGFmTH7cAjy/bg72TDZmKRDMXx55ETdxzHKvxQ4eQPDyJMNX0GIsinDNO1REPaW47UTPKeWjXLo7NnivBRzGj06mOPvj2vrwnl/PQ/HFmxEAEPfo+fzucSvYsbRjitE+6+iHNbEDQqZP+1DCeuabBBG4R5D49HTxdH+DhYwoKM/OWWFrC0lEFbkUMOC8T/fQAOQ4YBrgr0dq9C+eWrcMo7iJQrCTh+/DiOHD2E6L0HcDlDhb8uFaB9kCfksIBEK4GlPdFM5FoUnNiNuHOniSA7iL1792L//v3YlpCCI1cq4ePnDWtLEf7ZCCaCSCKDnYUV5HI5bG1tUOXlh57t29Z3X6RTQS0qwuVvNiE1Iw4H/j7MlrEf/ysOf+9Ph9v0seg9tBvCfe3gLpNDV1IG1yBb/PV3CkoSd+DEnoM4uC8DMTJXeI8YjFH92qCdLdGeruPMqSxmMy4kFOOXJDeMHxWGNiRN1wvP4ZgrfM6Jc1ugroROfTAB55VaPFo1HxfeGsFWldXVYAThApIOHcSSYXOg/Xg7RCGR+LK/BseXTkPC8fN47K9cQ0g9FV3ug70iAD//8ALaOonhJ1SxRQVnf/gKJ77/Fu8cK6l2qEpR2Ecgs/dE/PXldHR1t4OL4XzTkAVVdgLWPTMLP+7OwAmN/qzE0Qte2l6YuvVTRPopavYfNeD4lTqJHfrMw+jz2IN4zP+ff/YiZ80DbJPw6CPh+P7dMRjQMxB+XDhxWiFcOHFuG5rCVOb/Ll/iAl9HqwZMazo2R4PKMmTllcHG0RXlpUqItj+PmZsdEOPmhZ+fuw+eVjpYSCWo0mhx5buXka5Mx0/BizG9rx9mdfcgcaihLFFBrC5GQbkhagP0pyso7m4ObLn1P5v3bhLy7NL87Orn0jTStNLn2jjZ1/4ZDBLW+K4U489m2No4Qupo+4+Cic4viVWFUKolKCzT1f9JDg6nFcGFE+e2UXey/kY6USrQTi0ej0k59yBT7IlzRONpK7GEnMWmxNE3JuFCXBaW9VuLZwb64iEinEzjZR24/uttwPTp/5SSmus3k2Z92Ju5g8MxT3gN5tw2aOUzPW4UTVkJ22wLR28o0nOgph7GS/KhLktnPuvSq2q8IdSN92ae0/SYPv2fUlJz/WbSrA97M3dwOOYJ15w4rQv6q685J/HD+/ORdzwey9Ponp8aHCe9Apd23bFqUjtmNqv/43wcDqc1wIdYnNaFSAq5exDat+kNl97B1V7GjUcn/2D4+3izOSQumDic1gvXnDitkMbmVOh5I3zcxeG0Zrhw4nA4HI7ZwYeXHA6HwzE7uHDicDgcjtnBhROH0wDXEpLwwfvvQ6lUGs5wOJyWhAsnDscEuqQiJSUVF8+dxjvvvoeiomL9BQ6H06LwBREcjglUU+rXty9S09LZ32diYtEmKIB953A4LQcXThyOAfrz7Xv27IFEIoFWq63+DAwMxMyZMw2hOBxOS8CFE4dDoBrTkiVLsGbNahw8eBh+fr7VWpS/jz9+2rQBtgoFt4NzOC0Eb2uc/zxUCI0cOYppSlQweXp6sPNUGO3ZuROzn3oUnTuHIi0llZ3ncDjNDxdOHA6B/jw8NeFRjcnCQu+vjzYODx8f+AcGM9dIsWdO4OzZBn7xlsPhNDlcOHE4/0Bol87sF2yf/t9zeOaZpw1nORxOc8KFE+c/zZo1azBtylR8/tknmDXrEcPZ2hgbyY+bNuGhhx7CwIEDDRqUqS8/DofTlHDhxPlPUlVVhcMnjiMlJYX93btvf2bSux4RvXqie/ce7Pvp06eIgLrAvnM4nKaHr9bj/CehiyDoIoeZMx/CwoULDWdvFB3RnqLYN2ru43A4TQ/XnDj/OUxNeTMefMhw9sbRkWazbNnndUx8HA6nKeHCifOfweiaKDExEclpyejVo/cteX+gjaZLl85o27Y9kpJIXInxyM7OJWf5HBSH01Rwsx7nP4PRlEcXPjz33HNNsKlWR+IsZVoYZdvO7eyTw+H8e7hw4vwnMLomogwZMgSRAwY0mdmAmgnpwgq6T4qaCbkvPg7n38OFE+eOhhraSonG9Mknn2DVqpU4d+48FERjalp0OHToGEaPHokNP/+MiPB+zfAMDue/BZ9z4tzRUJdD1D8e1WqoayJqymt6xOjTpyfOnz+PFcuXY9y4ceQcn3/icP4NXHPi3LGYehkfNGgQBgwYYLjSXOiwZs1atuCCPpMuU/+nvVMcDqdhuHDi3LG88cYbzMs4NeW1pEdxuiIwNDSUm/g4nH8BN+tx7lio9mKkJSs69WpuNPFRb+d0lSCHw7k5uHDi3HFQ10TUpEeJ6NsTEnHLVnPq1Zya84IC/eDq6orDfx/hAorDuUm4WY9zh6FDSko6M6vNnfsCFixYYDh/ezCa+LZu3dICc14czp0DF06cO4o5z/0PCYkpeGL2bHTq2PG2L0igWtyxYyfxzcrVqKrIwzer1sLG1tZwlcPhNAY363HuCKgQoFoKFUy5ublsIYI5rJSzsJAgMrIfE0xJqdm4lpDITXwczg3ANSfOHQEVTP37R2DFV99gQGSE2WknZaWlTDCNGzcGT85+EvPmzzdc4XA4DcGFE6fVY2rKM+el20YT3969u3DpQgw38XE414Gb9TitFlNTXlFRodnvKaKr+CIj+8DeUcFNfBzOP8A1J06rxdSU11o2u1KnRloiVOPiLnETH4dzHbhw4rRKqCdwo5ug++6f0eo8gVONafmXX6K8ogJOLo548omnmGbF4XD0cOHEaZXQX6ClP/TXPF7GW44P3n8fa9euxfYdfzHPElxAcTh6+JwTh3Mbmf3kk/jq61UYNXIEvlzxheEsh8PhwolTg6CGKuMczv8dzdz/0OPQoSM4fOI4rioFqLSGcLcRo2uigMD2t8U1UVOjUNgiOLgt2ga3Q0FeIctv+o4czn8dbtbjVKMrzUH6qgdw/5qrOHQ2mZ1TWPWFjaMC927cjOe6SOFlXeNM9XZAF0EEBgZi3769d5A7IP1vP73xxkJ8/PEnSEtLbdWmSg6nKeCak5mw/Y3pWDqrD0Tzd+GD/ZcMZw2oCnH0jSg8+erL7HpxpcZwoekQhAsoyj+Ar7aPxNNLfkb02QRcib+KMz+Nxvp5HfHb3XOxOi4V9IfOb9fP6N07dTKmTZvG0tWvXz/D2TsB2gzFtbyoczj/dbhwMhOcbStgX6IETl9CcooSGeVaJgQEdSlQmoeki6koLMhAoJMtRBZS/U1NjK1LCORBFnDzC0SHTn5oE+SHgHbuCPPSwEIohiY+G6nFKqgN4VsKurKNmvIsrFwQ4OvOVuZRt0B3Gn5+fojsG868mF9LSDKcvfOgpuP8S4eZCdPUfHyxUMvqPYdD4WY9c+HIB8hKykLIoyfg/8j9uP/ZR/G0nwRy5Skg8QhGD/8dNo9OR5/HHtSfb9a+uUY3EoQ4FKbEYUH7B1D43lbYdxuIpf2lzfx8U3Sk8zqEqKjBd5gpr2GoIPbx8TULj+rNRc6aB/D3iSTcteKI4YzefDz9y6UI6t8DcwO5BsnhwslsoPM92uxzWPvy0zhg3R+xYY8i+sluKDi+Ejk7vsKYM9PxzIyBuG90b7RViMgdRdBWlWPn2y/gxNnL2FNgx+LRSJwQiN4YunkOetqK0FFiqVeP8+KRfmglnlx9mXlToMgqguDWtxuGz38aY5xFcLGk8ZpChNSV1VCeP4eej+7G0I+/hXfH7nihJxFOhhDNDXVNVFCkwqyH70fXrl3ZAoI7WeE3ujjatWsHYmJi8dUXn8PDx8dwtXmgde/Kt49h0WExylQ6yKZ8iPt6OGBiRzdDCIKqEOk73seuohB8UtgJh5/qDhvZzQqRIjLYSce6F9YiSeWL9lP6wVadB01lGXxTt2DmXy6wcA7E+2ueRC9S9RTcrvOfhhe/mSC2dYPIqR1Cg+VQW1UiNrsIZboSiIoLkHilBPldukHr4MAEE9VrqGDSEY0mIy4Gp9Mq2Z4fely8dgnH4zOQfjULJ0sN4w6tClXFKUg9cxxX469Uh43LzMaFxFTkVgpQa2u0JdpZ0YP+LlLSlWwkZBTDwqo7JDYW8PFqmSpj6pqIevQeMCDyjhdMFL2Lo35sYy4tq2uZGc3u4qhcVYn8hPPI3rUHu6JPYtOFZFzNV0NluE5rhk5TBUn2FVK3LiP2Wi40tzqmFRUzwVTl4ILQwT0QNXIExkV0RtdQH3SIKULxHlKnaX3kPROHak4c80BXWSIIl1cK3895SZjq84iw5dQq4blnnxGGuYQKc/dmCnvySZdgIHHLO8Ivs9sJeGy18Ob6o0JxcTE78uIOCcc+nCA4j/pA6PPyeuEiDZzys3Dp90+F4YpZwvcnrgm7spSCUpkjlJaUCMpSlaAlQehhpHj768KRBYMEPz9fQSyWsM/+q64KFwo0QkVNEpqV6Ohowc5OIWzbvoOl0zR9/wXUarWQnJwidAwJEd5/7z3D2eahqiBFOPRsG+Hh/h2Etj36C07WDwuT3vhN2E2uVeiDCNqSbCFzxURh9ivzBTz1p1CkqjJcuXnou9WmUKgq3yV8GRUqzPDzEab/pWZ17b9W5pza8PGJGSGykAGuXeEfpIV/u9NY9000jp9NRX7XBzGiow06MFsaGccWnkJqUgGOXbbFkLCO8Gnnz5Ye08Pe3Q8dOndBt7w4tD2aiJNkFFqRp4VKmQ1BdgyxJdZI19rAxs6VecS2s9Gb/UwrQnlhCdHk7FHm2QvTH5nH/L89NyAADpZokbkm6ppo//79bN6F/mAgTed/raLSBR/UY8Rjsx9jLo6oJ4nm0aB01fvXyjv1hnP7nuhjlQLrzOP48Y90aNX/tECB6lVFbG9c7A+vYumi17Fo0SJ2vPHKT/hszXbEGUIZqe0FQwcBSkhTk3GhxAW5ZR3gIBNBJhFzs85/HF7+5oSICCfHHvANcEKf9qX4+et1uFwuxukeYehoZw0PusdI0AC5MUhLTMa5WCeEuFvA39uGdVz0oB2NJqQLehYXQFGZjuwMHSqc9Kv7tNoUnIlLwfnLOagoLWVL0ssa6HysLfUmm/wuU/Hoiy/gxfnzMbmtpNn3OFFTHn2Hn3/cgFOnTmPBgtfgYwY/GHh7EENCOvFnn3kO1lZW+HL5l0hKSma/C9W0iKsHHFVufnAP7Yq7BqehJOsCvv37IopJdTMVLLXRX1GXpaPiwh/YvvxbLFv6MRYvXoL3l36Nzz/dhe/WXcCxYhVKSdDa8RChpC4l71OOyoxiNq95zlqHZLkngvyJcFJc77mc/wJcOJkhHr0Goc/wiRhqOxNRUWOw+uX+cCKCgRWWqGYZeaXuOFbNGodZvTuhc+dQdnTqEYFuA57HL3nXsIdoSBQ71+EIGzkTm398FrarH0LsPcPQsVNHjFi4CW8ezmVhjNAOQRHQFt7B7fUnCC1VSY7HnGHvMPupR9lCAPrk/3IFNb47dXG0ZcufeOKJJ/DorBmGs02HUXOqkgcT4RCCyf97HMNdXDB0749YeUWJ/QWNaU9KIpjisO2lJ/D54RK8HPoevj98EefPn8e504ew/c18zO1yDO+NeAN/pOZjn+EuiirjAnJ/nI37ovqgfb8xCHt4JSojZqPnkkV4zF8CN63oP132HC6czBK5zBLWLp7se6C1E2zt5UTtYX/qNScDluLemDz1QYy5/z7MnPlQrWPanMfw1BOD0NW6HFpLMgx1cYWizwQ8NesJjHxmImY9MBjtM/YiY/PP+PWqFnmVem2JVgiVd3e4dR6OuePDEOBs1WIjWG2FCmlpGbB3dIFbM69Qa01Qc21ISAdMnX43gjt0bnITn6mpVmHvBKvg3ujSzQHd7c4i5rcDSEzKRW5Z3ZWc+kU5soKL2H1cSuqYK2YMHoTObb3g5+uOIB8XBPcbBJ9AfwTE5SM5rwQiIuRM61JlcQ5y7dohw3csnnl+Dp6e3BsTeviyVXott1WBY65w4dRKqF61qyPN20oBrRBEOgd/9H15Lp555z28sXAhFhoO+v3N1/6Hp2eOwlB3O0NDdwAcu2HYE0/h+QVP4fW3H0PflCNwPLIZmxJ0yCmv6TbkLt0Bz15YEBUAd4WV4WzzQjvbsvIK2NjYQCy24BWzDkYT37BhI5vcxFfXZ6LaNbzatLx592WcPHYJaaLa0kKs0UJSmgnkZiMvqy28fHph3NQAWFoSzV4kI/9bwyGyN3zC2iJIGo8ipRypqvraUFmXEeh010OkTr6F+3sGMfMxh0PhfUBrQyKD4NORLZqICv0Tv22Lx9+nswwX9dBCNR61MZzVEkEl2MMzxAFtQiwglJXoLxtQ7noXF759FiGP/Ygdl3OQBqHZtaeRI0dhxfLlzCTUp09Pcqal9LXWgbEsad40tYmvrpYiVGngFTUBUffOxozUZUje8QtW7biKIoN2TdFJJagqKIIy6SpOQ46rWlPNylh2PmQc5YKuITHIySFacYbJAEgmh2/7juy7kjyPlzenLvX7L45ZUuMySAyRyBlufn7o0LUt3C8dRdnZMzhkcANT7Q7mQgqirxboF0gUpjKXMdXXDx/Hjr/SkFhihVSZB0J9FWx1lBG6Wk9dUYj05FyUlpeiDPVNOk0F1ZhomlxdXREU6Ac/P2+DayJeNRuCrnRrExTI3DhRd0407/6tF/O6mhN1j2VhYwdbz87o28YBro6V2H88EcpKQwCCtdggqKwVCFRW6L9XQ8uOHIJ+0FMoWENqVXuFnk5uD7i1Qd++QRjThi5D5eXNqQ2vEWaOVYV+K6SM/WvEA+3Hz8DoD1dgXOZn+P35acy9j+kxdcznmP3JLiSSfl4a+zXOrnu91vWxY8bg+YSh+K3dbLzaU2rwOqHHuFqvJYiJiWHpWbZsGT7+5DNyxtCxcRqFLq3/ccOvzGvG2LHjkJlJNedb1zzqak4SjZboyn6waNMDs18airaCGNmrd+JsRgFypPoFOeU6ESycHKBwc4MjqTttJSZalfFfUTEqlHlIvtQOIY6CyQZuMcS2LkD3J7Fi2nB8elc3rjdx6sHdF5khdImttqwQF1OLYO/qCxtPB5CmXBuB6FI6HfLjTyGzQIMCTW3tRuwcAK2lLboFOcG6OBWaiiIcv6p3W2SEhrFyckUPz9rzSqV5qZCqi3Cy0J5oM95spWBTuyui8yXULEVH/7STpV7G+a/A3hxU66ROYqk5lGqdeuF+89Dyjn07Ch+6L0ChewS23x8AGxmpT1pSx5QXsHPlamzYsge7k8vY4gVN17FQfjAEdjaFUGUnYPX0x3HUrx9zufX7zFD4O1qxOlyy90McPVeAZ36xwesbXkJfR6eaQVBePJQHvsCsE10gc/PHe3MGw41o6C3lFotj/vAhqhkiktlC6uiLLl06w78hwUQRyaCTyOHYIQKh4f2Ze5/IAQOqj/BOfhjYloxsSQnTuGRendl5Gs54RHbyQbc6goli6+ILiWsHct2P7W1q6g6DmqGuJSQiKTWbuSai6boTvYw3N3QVX0R4P+Tm5jI3T9Td062Y+OpqTnrXRKTi0PlNR1e4e9qjn1WRfiWlJpuFqbSxJP/K2WZtOndJyzE2LhHFqVeZR/WEtDwkXE1FflY2ytp0gJedA9u7ZESlVpGwcYg/H4cz1/Ka1XTMaZ1w4dSKoYWnL0DTb7o65/XUD0ENL43vI2o+LUbHHJuOGzcGK1aswDer1lani3PzUAG1a+dfeGL2bISGhhpMfDdH3TknqcgoKMREZPig/bAxuGfOoxhkr983R7EsqyQlSQSOdTDGLn4DD3SwxFNrH0RkZCS6dQ1D5+6R6PWTFd6qnILNX9+HcHsJickYr96IZyG3Zp8cTkNwsx6nxeCmvOaDmvjo/N2SJUtv3sSnVTHzcJJTCPluVc/MS90TaQpLcCkuAUX2gcxc3KetE9GbdIYBThGy0kqRl3KtlnnZaFruE+jEtkKYDj+o2a8yLxFX8oBCa28WH51X5UMUjhEunDgtAu086d4cugSarjSjE/qcpmfgwIFwcHDE0o8/gZ8vXfnYNMKf6jpU566hrhjRhzBS+y8O5+bhwonTIlCvBnTzKN2jE9imHXM4y2l6jIskpt5zD7Zt24HIyD7kLBcTnNYHr7WcFqFSrUZhYTEZ1TtwwdSM0Dmodu3aM4/u9AcL16xZa7jC4bQuuHDiNDt0NK/VauHoaG84w2lO2gQFsJ94p7+kSz280/z/txt1OZyWhgsnTrNCO0bqmkgikeDgwcPsN4o4LYEOX3/9DfPwTj29U4/vHE5rggsnTrNB993Q+Q/qmsjPj7om8uWr81oMMVzdXeEfGIyAgEDEX7iIs2fPkfOmixo4HPOFL4jgNBv011DpD89RZ65UMHFuB/p1c3QVHyU6Opp9cjjmDtecOE0ONeWFh0ew71QwcVPe7UTfxH/+eRPmPv8s/P39cPjEcXaOwzFnuHDiNCnclGeO6GqZ+OwsW+Y3ujicfwM363GaFG7KM2eMW2P5FlmO+cNrKKdJoKa8CRMmsu9bt27hpjyzpKa5Z2fnsnko/SIJDsf84MKJ86+hgom6JroafwX2jgoMYF7GuSnPfBGjslJFyiwRyYnxzBTL1/BxzA1u1uP8a4yuiYz7mLhgah3QQcW0KVORnJaMI0ePMu8SHI65wIUT55ahndvyL79EeUUFrK2s8PwLLxDBJCGj8MZ/ioNjXqxZs4ZoTins+333z2DeJTgcc4ALJ84tQ81B/ftH4MnZT2Le/PmGs5zWhrEc163bgMjIfoazHM7thQsnzi1D5ylKifZkRbQmiYUF15ZaKablyE2yHHOBCyfOv4QvS+ZwOE0P71U4/xJehTgcTtPDexYOh8PhmB1cOHE4HA7H7ODCicPhcDhmBxdOHA6HwzE7uHDicDgcjtnBhROHw+FwzA4unDgcDodjdnDhxOFwOByzgwsnDofD4ZgdXDhxOBwOx+zgwonD4XA4ZgcXThwOh8MxO7hw4nA4HI7ZwYUTh8PhcMwOLpzuRAQ1BOECEg+uwGue3nhx62W8c1JjuNiyVJUrcXbpaDz56ssQzd+F5MIKwxUOh8NpHP5jgy0BFRZVahQkxOJCjtZwsjaCVyhsbazQw9PKcOZG0EGVcQHpKjuk6RToE+gEuUR/XsBRJB08iyXD5qDkuzi0a+ODV3tK2V0tCRVOp98ZiE8KuuAnyVQkvRUFf8ebeUcT8uKhUqtwrNwbXX0VsLOUtrLRlY4UtAal+dlIupKAAo3IcL42NsG94CLHredTC6EpTEVxdgritL7wdVLA0d0BtqRAzKlMWkMaOQ3Dy6jZIR2SqACVhWex6ZHReHD8aERFDa53zP5kF+Zsz0CZumHh1RCCuhzKnR9iyaqvMOiTo8hWGrQS0gEa0dr0RmcvKXy8bk9RW4hv/H3+ifRDK3F23esY9OFuxKQqW1/lJeUiiLIQt/kTHH5pfIP1gB53fx+D3YnFhpvMFR3SDn+PY5/cj/6P/4T3f4tButkVSGtII6cxeFE1O7WzOHzGu5i2+C9s/fNP7Nu3t/r4enY/fDzKC1Yypvr8O0RUQ/KBlcIFDi4O+nO3iSpdQ+9Df9r95pFUqPVfZLYoVN8eM+W/gpWLHomNNSa8/gsWrDtcqx7QY+MDXTE00P4Wc6mlEMMn4gH0ee4HHPxqGuZP7Apvs0twa0gjpzG4Wa+ZoW1BhBRUZqfhu7tGIea+3yEKicTS/lJQOSSu7oJMhJhAOuHKMmTllUGtqykeS0s5JA4ucLEUUFVeCm1RMtMkPk6wx0+6KBz832D42YkgdfGCu0U2ci/+jc1zFqJs4Xa4tvHCg0R70pXmoEwQobBQZYhVj6OzGwQrSygaHK6QNGrVyMrMY3+Zpsna3Qe2UpHBnNgAqkIce2twI2Y9HdP+ypSFKCg3nDIgWNjB3dMBMvJdpCbvWlaIM5s+QezFE3i07Gn8PK0N+rR1Y+/qZClp/PnmBDXvEs3p5Def4uT6nTjwTDTu7myPyW1FJCdqZ7zYYArOKayAhdQKUkdbgzlKn2f0PMXK1bX6PKU0L519Ziu15D59ptC8dHCyJfVHCjk7QeqXTsfK08bekoUx1gdjvkuqqmChLf3HOiiqLGZmZRq/PYmfQeLXlRUhraBS/7cBGneNWa12eo3lX6XRQmrlUDu9DB2pu3nIKVLXSk/1u0lJ2Hp1QNdIGmvqnU5mz0KWK5W14rV394TIQtpIe+C0CFQ4cZqbTKEi67CwIkIhPPHlPmH2viqhtFJjuNYABSeFgoMfCzP8fIQAexvBzk7BjkH3v83u1ajThZjvXxG+Ge5RfV0slrDPtj36C/1XXRVKclOEzJiNwvKRU4SPDqQKa9K1LOrs1fcLm5+MrI7Tyt5bcLCJEJ7edFr4KKHhNOkqSwTh8kph4cRuwmBH/X30cPDrIEz7NV/4Jb7xd1GXFQtHX+kqTHtihoCn/hSSCsrJWZoWraATklkaTd+DHk7WDwvdh34kbCSh0ssLqsMYn218V/r8sKXHhZMZNM7WgP6dj3/9vLDy7pq8U6vVhusmkDognFomzG83XpgyfxUrm2KSbdqS7Orzo8Y/XX2eFBKLe/2UNsJ74R7VeUnLl+bn+/vihN36mAWd7ryQn7SRxfH5w7OEha8+KPj5+bJw7fq8JKwuqhCu5V6/DtJnpu9aKvz5eICAx1YLr2+/ZIhdECrSzwpxn05gcRrvo3UsbOxclt4iVVV1erctmMbSayzTuunV11r9e9O6O6BrUHWcNGxH7weEhWcKhD35DdfB+mmsqXe0DOauXMOOpyzl7D2N7WHu3szqNsO5PUjeJBjkFKeZ0FYpoasoQuzP65DVZTpErn4YFSCFtO6ojI2s03HhTA6unMuFqH0w+vTrh+7deiFCkY84qTsSVTIM7e0HodIWNgpLOAhKKG28kek3BnPuGox2I4ZgaLcQ+HlZw1OuQKGuCh3DI+EmLYWX+iLWrDyDZJUHbEcNxsiIIYgK74rePUYhfEgYOntbwrueWTELVapM7P39CnJd2qFDr+7oSeLr6OOG3uIiHCjxRIC/I9r5K9got+4Uv0RbjvQD3+FohTvOi0Px3OBAOFjR0WsOzv7wJY6eS8fmdDlGTJyEyMgIhIeHI8wiC53dy7DjUgFsOgTCXewGVycBUrkSrjIZkj36Y8zQ0bhrWG907UvuCXSAnUUrGOIKVSSDSpFx+hjOHzyB7PCn0MldjlDXGnOfEZ1WCo1Gh/ziM0goFiOmRIGBodZQViQj/tc12JXdF+JubTF+cFcEWIqhKshA3s4v8FWCJ/Kc22PsmJHo06cPIrt3QVerXJwWW6GwWI7u7VxgjVyoivPw19uLcdzRmWg4pAxH9sXYXn0xcEQHDGtLNLMTJ3ByWzSOyHqifd+BGD0sHJG9PeHrEYDM/HIM6uoPdfx+5F45jR8xCL2DfTGcxI3CU8jLvIodK+JQOWYo+vXqgeEDBqBX/x6I6NsTYWFtEGgnhSpfn94fTpUjxbETJk0ax8o+vGtodXrTEivRN8wb0rILELIT8ONHRyHr0R2ugwZiUmQk+pL6GzguBEP69kIHUvkaqgP5F/fVSaMrOVuMsux0xG1Yh98LvZCSmI0OI6LQPSIcnUMCEYTzuOQxGMWlIkxor9BHxGl5DEKK06zUaE4vLtosPPx7GtMgiouL2aEsVelHz2w0eVjYufwz4a3Zy4QLBRohl9xNNZfMFROF5559RsCwz4TjpZXsvKCpYKPJ2a/M12slGYXkZMOjPaptUe1nqs8jwn1R7wprVTp9HCx84yNEOspWX90tvDpiqXDwfDIZc+rY+aJja4RjH05g6aHa4EVyrqFYGtScSLqpZkBHri8N7l59Xn+/Vije/rrw4/NT6o2gM398Tv9MEn7zBaJBtDpqa05T1l4WVp7KrK4H9MjPK2HvSg9aJ2j5LprxuICID4RDx48JW06tYpoG1RhpPWKQepMXd6haQ6DXjGVBtRhad6jWEvLUT8I5jYrVMao5UW2Bah5e/i8ybYmWLX1mVfkuptFQrSnwg79ZGo1184/ffmF1gdbNI9uWVz9z7haildByTfmZafXDFbOEZYkF1dpaLUg4Y3o9H3nXJL1apiEZ0yue/BWrVzStVIujcdL6QDVq4/v9E4lb3qmdRnKnUXOi+Wiq0VFrBk3XoWfbsGeHvb37hp/DaXq4RbWZoZZ1AYaJfMLGJfdj4/0d0dnfAz4+vvDw64gAtyex9PA1bBLJSNhw9H/0GTz70aPo4CiBE7lHZCGDR9RY9CCjyeHHYnGBjKhzyXlBW2dRgJzOH1y/SC3FO5Cq3YHt0RrkFNKVdDR84/eIEAyLNlF4+Y//oWcHP/gw3UgH++BQBPcbxNJjl1eEC/rg9WhotZ5WVwAkHsGuI5FIF6Zg7ZJRcLS3Yqmgcy92I0ei+8D+uEd+FaqsYqRl0LM6aK3oDJQeR1l9bcPsMVlFmZtehL+e6oU5g9qzekAPf6/R6NxjEdYWq3CZhLGQCnCdORs9A4rx1Mk38MrcF/He3C1YbD8HcycH4a2hHiQzVUDa70g7uQ2f/GKL1yf1w/0Tu1eXqNzLFS4znsITmiQMOnMQO1KkSMzTzzNR2j9yFwZ+/Q4m28nhR8qWzjNJj0XjZJI9doum4/l7OiC8O3kOqZuaql4YOXocqwtBpG76ViYaYqmPRrIR0QdzcbSh/XUZW6rTO7H/kFrpFVspqtP70vk/8WdiTf2hcZ49k469+zW4iUWtjeIoKsfQ5d9i2PMv4Gk/CWxkIji7uCFi5Dg4VhRBnZnHyoHkMOc20HivxGkSaAaL2LS+ni4Dh6LHhJcwZ85z7Jj//GOYNX8c+vq4oRO5zgok+xzyTq/GR++/j4VvvIE33nwHi9YexHeHcpBmVyPoGsK4vKIuEq0V4NoV02ZG4p62wRD/8iZ++GAhXlz1HVadzmp8cywVmOpyiC9sxFdffoK3Fy3CokVvY9GSZXhrzenq9FRU6ieT6z6/odV6QqkWypwcFCoFxEksYGVZYwxk7y/YQ+Yog7PsKrLVIuQa4rbTGSbY1aWtfrUepeO4WRg//WnMnfsCO56Zfw/umxWOnrYiUOOTjuQ9XXUZ0qszhs7qibzcXOQo86EY1B/dFQ6QWZO8Fdc0Ya02BTu//wpH17xJyoiW0yK8+fIyvPvOD/jjRBHiq8oMIWtoKxHgQDpliaZ+b1/Z0QUdFTVmLQsLC3bYyCTMhFsl1S8mqIamxTYI7p274ZGHhsPy0HeI++YNvLzwAyw+mIbfLuYYAuqh6U365XuW3jdIPaf16o1F71WnNzZfv0qiUNsTtp6dWZyiS3uhXE/CvroAn63ZzupuY3W+QUwGCHTFpLVMBgc7F8Niipq8rMtNPYPTJDReGpwmoW6l9hr5HEJmzcMLbyzEwoULsWDBAnz4+kQMbOuEEHJdIB1vZdppZO/egBXvv42PP/4Eaz9dgoXv/YCTF+ORVWihj6gRGi1QuSPg0BmjHpmMyCh3ZG78HOtXLMX6Nzfgnd2JSMqvgKqh0SgZmdOVcskHf8Kv3y7D4sVL9Mdnm/Hp6h9Zeq5qRdUCpu7zG9KcpHS0TzAVtDKTG0UiZ7YM3rdNKYSyclTmU+EkRnmlQYjJbFu95uTq7YDAKa9h8ouLWB2gx6LX/sfqQqjEEi4kDM0SkdYN3iF9EN4rAOUZKezePsHt4UCUHxqGUaE0fAEublmFnR9/Vl1OS7/4HKs/34QjqgrkulffUU26rR37lEj0gwidpop9ar2cUWjlADtLLROUNwQVpo494NZmAKbfNxCSHWtZPfv042XYtP0Q1p0q0tcxk/TGRa9m6aX1nKaXfZK6RdO7q0MwC2Pl4Uu09x6Y/vhIeF/dweL8/MtP8e0ve7H+aAqyyrUN192GqDNAKFebDvYaF0G8o2x5eJ43M41lsKxm1WoNqkKITn2BH746iBnfhuKRPeex7cg57D59HnnRi/H21A7oKa3RMuiEeX2uM8ajWpD7KIRNmYt1Zy/gVOwa/PleN/T/4h78tOsslpzR1L/72jrk7ViKuz5UYPC8H7H88hWciYnFlYOrcPq7eSw9dPRNaUina0hz0trbQEGOziJLhGir6mldgpBP+q88xMR1hYejFUIc6FJrcp+JWa+1a05CcZHh2/VKTAdBfA1Ht2/Hx+8pMfeuaejZKxAH5ryPvblF2EOD0Dit9NqNVHs3Xv3jWHUZnT9/nh3RZ+MQe3E9/lr5Eh7zlyDQpfYSb1PEUv3gR5KRD49TV6tNyDeG/k3Eti4QQmfig8NH8Of5Q7iw5TUMPPYR2r79Ip4/qEFFmQ0LR9M755ON9dJLD5reaz++jJleYjhRDREOQJv78PqG31jdTTq3CvPaJaHD6nl4fXcWtpmY/66LyQBBSwY+VHOqoeHWqm68gDjNCBdOzc5N1uzKUhRopCiTWMG7rQecO/mhTZADJKUF7HKiosaljdR0uR/RuPKIQqL6hyIVEa0Dcnu4+fjA0S8ECn9f+JLWpyRDz/TSBipEqd7cRzUkuYc9LD3d4R0UAGdboonVwbSZG2nMQ0SF3B9OfpZQVKYjMa6IdQD6Z+ugSciCurBG1JVYi9i16k245F0prW4uwKRjrKqq0WIaKjFWa7RqiOKPIjlBgsRyN9h3dEEvTz84aLIQey4Pmcn5LCxFrnBHkDSefa+ytid1xg9+ft7s8PHzJZ++cHV3vbF9O5a2cJJq2HNSEitQWkbznaaoCNnZubiWkARlg9XaGLmY1TNax+RevvBs1wWOqgyUKJQoUguocJKy9EosklEod6qXXv2hT7ML0cir9zpJ5LB18YaHpwsc/b3g7OEOh7QrKKcm6xtEbyrVQ816tTWnhjHV6jktB8/2ZqfhLNZqb9QOQfo0tRTndvyIuLPXkF93typBnp0OJGWjUKxBDhpSyeoiZqkyNZ8pGtvFWll/nkJOOqr0uGOI+30DTmoEZtaj3KjmJBE7wSogGAO8dqBSsgdvrDyCwuKKajFeEbsFp6MPYkXIGPi088cYMnqmWFsa3u1iEvJVOtDp+Ab7SHPFRHOSudQIqobegb5xVaUax777HH9WZGHDhEkIf/Bu3DshDHM67cLiLUewYMMVfWDf/rAnnXXXkBisP5yOfTuyyEkag/7Q557+L4ZQM1fkXVrCPqvro6UNhH79EeRThp6SfViz8xLOXi4gwlRLatZFnN38E1Y/uRmXyUChuKhu3aj9Jux5gjXRpOwR4GWDNiF6rczCaSBL74QOx3E+9kK99JqktAHINQkVMGRw5WAJ7xC6ZOjGUFWWk7tr0lhfc6qPVqvXMltVPbtD4B4imhlaqU09RHxW4A21tQu8bGrMcxSfiQvgFeyDj/qKcWLzCmzftg87svUjQgsLKVwHDUB5TBEUp1UYeX4Z+tjL0Zbu4j/3Fdavi8Yba+Lg0t4eDq7d4TlrPj4Y4cVGnUaoZwjxudW495NjSM/Sj7irqsjo2FaB49IofLJoCvq2C0RbRe100fsK0+Lx24JHsDbbDRllAlxlWviHtWXXha0ytH9gCDq/Ow2Tyd/1upUGPUTQ1WJKFB//HUlXruDFOX+gsmNNJ1Os6I1Ogb4YPPMejOrgysw6VCBWnPkZBclnEDXrT/auIrkbvB76AAvHtkFHx0aEqzlh4iFiz5ofsapSP6diWhdsLK1h88CneNg1EX1t4zB2QTS8+ozDwMcn4QFPO1hpLqPgj5V44OMiaNq3xcwPXsYUFwGWZRnISzmG9Uu+RlZ6Po5qiIZsQnngVLQLa4/35gyGL8hgIDkDC9o/gML3tsK+20DmsUQ/PqE1Vomqa6dwYfsPeOXNNBS1K2d1UFYRBIch/REwfDTmRXmgdOu7uLj1G4wR3sDccf3w0Sh/ZgaOPZ6A/31ziEZWDS1Teece+PbFuxFsq4OoNIuld9/aDYiJSWgwvb4B3vjkzfHwvLYXFfHRmLb0BMqIgDGikTihrMsIrJr3IPyd5LXqu5Gkumkc254I2RRkxx7H1peewcGHj9R2ipxHtM+TX8LlM0+4Bfnjl8+nIpCcrvFUwWkprjdE4TQBNIONq/XsPV1JA6qEOjcJSUmJtY5rdCVWmSXy7NrCO9AHoZ5lZGRaiPT0VLZKq0oeDCcPBdp26ggflX7Smi41hqs7ETBSBIhFLGxxSRri81Sw1KhrjfbEKr0j0fQrsdXPpOHjC8qQ36UbfB0c6gkmitjWDfbufugU4gHH8jyWdnpfotIZ5X5DmGnOuZ09qJGvoeW9VHOycvaEh6U9wjz1S5iZqx4yolb0DmZmxV4eSvaOxnRRrpHn0iXMVDDpc08Miw4usHbxRD/bYpYGunKtsKQIFSqj2cnMMWhOMis5WxBB87JuXUhOS2bvpCEaKzXl+sa7wMUvCB4BjsydjkTmCPsOfdBeSIK3iRdTqYM73MN6I9CuAjYKoVac9KjKT0RFcSnK6FYAg+bk4OjENGZvg1zQ5yCNU0G0Gwf4dw2DZ8c02MYrWRxxmdlQK6To5+sKW1LWgr0TnJ0dEGJhBbavmpJP6kiFqtazadnGenWCrU8QG0RYWEiq00vrbkPpVV5KxiVSj2l6LYrjUKKqZHljGqbMpi2UXmFo62QBpwYEE0Umt6pOo4utwN7R2B5F9g6QWjWwwEhui0A3W3SgruENtILadcfBNacWglbumx0J6O/RsXkkOfWHRjo3al6hy3lNG4s+3trNhwqAG3nejaWrdtwM4/yJiQ2/cXQsPVSE1A1dN+1McBmg3xpPn/Gef059a8I0p43vT9Gbo+q+a93QjUPn50zz/sZzrX4+mz7VWKbXi+96Ka8xszUUQ0N36qFXTOtTY883xm7keunkmBdcOLUKGm+kLYtpR3IraTKX9+DcGZjWx8bhta51woUTh8PhcMwOPqDgcDgcjtnBhROHw+FwzA4unDgcDodjdnDhxOFwOByzgwsnDofD4ZgdXDhxOBwOx+zgwonD4XA4ZgcXThwOh8MxO7hw4nA4HI7ZwT1EmC3U6UoOLv/xM+L+2oiv421R4BoC+PfGyrcmwU9keWO/zXMHUXjoE1yNS8XcH06yv6kH76oiDwz9cB482rXDVC9xK/YeTcpbq4ZadQ17Pnwb2YEjkB56Px7vLGnQ2zbn9sPcIqkKody2EE9sSKn29k+9t1OP8Xe99SQG2ytah8d8M4RrTuaKoIG6LB/K7GScOJCCC5cv4Oq1ZKQlV0CslELdBCVHfw6jNC8VyZlFKFNrqz2VmR8kZYIalanJ0KadrvZKfeRyEvOUnRSXhdxrGaA/QWi+71AD/Sl+mvfJhRUorjT+rhMpUIn+5xPTj+5H0uV4XCjg48abQwdNYSr7QURap2luNmd9EJM6qakoJXXxCsoTLlfXy+RrJ5Cz7zKSz+fgEpFXre5HMc0ELpzMlcoyyE78hONHi7EiYShejI7F9j3rEff1vehARmI3/hNrDUMb7ZVvH8PX86Yg4MHv8dP5XFzWXzJDlBBEJ7HyYBtsPTYev56IwZnTF5F6aicuftoOV1d/h29eXIatxSrofy/YvFHG/IKza+Yh4PV9WLLvmuGsHpla35WpBT7avlmqyktxavF4zPnf4wh6+mecK1M3a30QEA+l8hh+3jkMU5Zvqa6XV3Y9gXXzJfh99uf4Zct+bCVhW8OgydzgwsnMoT/ZXtCtPTpYSeFuYwEbG0tWaP+24Oj9nn0nIXzKQ3jz4d7o6iODt7m2IMGa/OODQff2QNhLAxDs4gRrZ1vYKByhCO3MftuozdXTuBgngrrcnDXAGtQVheSfUlTU/CAuQy3TGyZlohv/pWSOHgtLGXyjZmD6vfdjwd1h8BZJUPsnDJsW+kvSCkUfRDzXEf29nVi9dCD1kv7GGv0trADVfiDxApIStQ3+1hnn+vA5pxZFx0Z3FNNOSSSxhIXcEjIyWGZCh5oLirJRvm8Jlp6wwcKD9tj1y2wEy6RwsLaAvWXNz33rod2xmMSt1P9pYUWGkRUNPsP019hpeLVODJ3IouYaeXYZGXFqdfW7eIncBhKJBHKxmkSvqtexUmo/h8QhaBqMT2ajqHlfAjV1aTS6enHSZ1qRgA0KY60KguQ0Vgx+HEevFUH9SSxeH2RvxjZ+ffnn/r0KsQePY3TWCDw9PAzvDGsDwdKalGsp1GXpWDt5KNK6P4wrUW/ivc5lcLSpefuGytGYzw2VCQ1PBzSUBvOQ1R291sHqDUFdWVmrvIxloCX15Z/qVGNpoWEpxsGV6XNpHZRZWqKiooKdo2HlMkNqST1WS22IsNY1mC5WH02eb1qn7dh7m7wfgcWlKfvn96B1S6tBiarmeabQ8rIj7ZCmUkUEj+m9Av5mvzS8tO+zSBo/E4rpC01+aZhzw1DhxGkJtIJOSBa2LZgmrIhQCHZ2+sPK3ltwsn5YeH9fnLCRhRKE8tPrhSMLBgkB9jaCWCxhBw0rjZgtYN5OoUhVxcLVUChUlp4Xfnx+ivD5w7OEJTv2CK+E+gkz/HzYfQ42EULY2LnCRwkadq+RuE8nCN8811/AU38K++PzBV1liSBcXim8NLi7MNixdhppHE9vOi0sSywQhJSf2bNMwxifM2X+KvacYprAgpOCcGoZSwd9F2M45z6Thdn7qoRclU6fEELmj88Jm5+MrA5j+sw16bXftpoKkpZ9rwkDBgwQOno/ILx4RCWkl2nq5I35UJKbIqyf0oblh2m5Ovh1EMKWHhe+P3GNleM3wz2Eha8+KDy+/i9WjsZ8Ni1Hlr8Mfb3KjNnI7jPNZ1qvug/9iNWrXH3gBsgUKtLPCstHThFWr15dXXfoM411c/y73wmHjh8TVt7doVadqlXWjBtLSwULW0jCHmbPnd9uvPD94nlCx5CQ6mfSdPyQkcXi+eSzj4W5K9cIr3p4sTiNdcP4fOPj1WXFwtFXugrTnphR3U6MbYPm+5KFr1Xn6VOW8up46ucp4e/3hTPLZlan3/Sg5WVsMw1C6jytzzTue5/5lMVdoTFc49wwkjcJBjnFaTaKoCnMw+kfPsW354BzIjdMmjQR/fr1RWT3LuhqlYsr2ZXISKqAR0cvaK01sKUmK3U6KmyDUKUJwcAnJ2HUoC4Y0qUTBgQ5w1JiOg5WQaKsxKFlXyBPyMFJtQWcg7pC0bkbBgyMRBfNebSTyLAtXYuOvTpBYiWCPURIOPAT4tOLsNNiEGb29UGACxk503gFZ9h3DkXP8EiEW+XAVyHG5QwS1/2D0CvIE4GWlSiTWcLKryMGhfdBWx8P9LHW4kxaKPwGdEO3wYHoKc3BxdgsxJ7OhqZzV/Tr3QPdu/VChCIf9s4OOK12Q//ePnAjo1hJ6Xl8t+IwklUesB01GOP79cOAiF7o3WMUwoeEoYujFVyt9O9LNSzlqfX46tf92LF1N04f2YV429Eo7doXT08IQqC9HHIzXdxGf7JegkLYO1lBIdEi2aM/2veNwqNjItC1bwRCFSJ4O6gRu2EtslIqEH1JQHBET/j0IPWkdy94a07D0UmCE5LeGN/BHjYWYoi0lcjcuxZXT8dhTYo1RkycpK9XkREIs8iCd4cqbEtwRls/BVysLVF/4R/RWMuzcWHPSuwqqEJyQSHah4ahXd8+CG4fBIXqIGwq83CYnLd0DYVD124sblqnyq2cEVOiQESwB+xI+YiqMnFu/XIkxF7G6oxOGEbKMiKyH0tPV1k2rDxKcCpGh3a9gki61bDWpOD0hlOIyzyBY5Vt4DWkO4L7dsOQAYMwpLMzQpxLcfX7ldiZJcLFdDUCBvRFj169EdGrK8sL2HogGX4YG+Kg18KJxpa87TMc1/rhPGkz80e0gVxKtPaqEsT99hOOnruMcyQuSZsecIuKxIBeXerlqZ1YDUGcgR0rf8DZK5YoCh6LIUS7HU7aR5hOg7MO3VHiGIrnZ47C8PYucDD8zHvVtT1IubATX6/fjRNbduDImTjkdX8QQRG9SZv1Qhui/fI1lzeJQUhxmhE6mqzIOsw0Js9H3mWjOuMoTVuSLWSvvl8Y2mumEOzztLC6qEK4SC8YtII35r8iYNhnwvHSSjb6NR3c1VAzOqSjQm+fUcLcvZnVGgcdxVFNh45Iqeazm5yjV2KXjBKWPNxbwKMbhM0XslnY2mjZvcc+nCA4j/pAWHkqk6Wtdhq0QtGxNSwuGmb2d8fI2+rYqPiP334RXh2xVDiZUc7STjUz+q5Ue6TvtCtLKVwuI+9JtLWpPo8Is8OfEtYSbYrer4c+qc7TSH6lfDJcGNA1qFrzuHfpbqaJlVaa//CUvg3NL5qnNN/nbrlk8ob6cqTawoSeHavLcU++huUd1QpYeZFRe1JBOQmvZflhev5CAc0Dfb6lbX5Jn9cRHzCtjNWrehDNidRN+kyqfXr5v8jqIC0X43mqLVFt4eHf01idMpbjc88+w+Km5ZheXsDSTrUrqnnTOk7TSFNiWu6mdbCqfJfwZVQoi5+ep9YDel5PJrtO2wx9NrUaLDxTIMQX64SqghTh0LNtqjUkqoHT51DNqfo8yYu6mpNpnhrfo36eFrLnUm2O1keq9VBtnGqXtN6FPbucPVNfZiT/2ae+jVFrB62PTCMjaZ72a77wSzxXmW4V0+E3p5nQXItHRfxx/H6pNx65azJWv9wfepO6DmIbB7gNGY+7yCixO9GAUhIrkFmghU5Txe6tS/0Cq20Td+nWHv3e/QQPdXXFVHeqBanhMnEMug/sj3vkV6FKLUNaRh07uswWjrI681jkPgFH8dvaNGxeKeChF2dgYFt3tCeXatKgY2HOHj+H5e+UsTCTR4TAjYwRRdruGDxkOJ5f9yi6uEjZ6kKRhQxu4YPgFRyE4cdika0rR0mpfsrTUrwDSTbXsD1aA7Vh6kz/pPpvTBGHPgzdIyux7cg5LJvRB4v6SWBDh89mTkNvoz9Xu0wCI4awcny8hzvC7SUQSaTo059ort36A1euIV6tQUZFMUoubsf3Ox2w/VxHvHj/EHhb0/zU55vXxAkI6tEPT8T9iWtXc3G8brnXYczjkzHg4/kYS7RPP2tHyGzaYsToLlCPHoyikfPwQn8PfZ0iuHm4wKlQDa+0PFyq0EBVlgDZ5X3YdSQS6cIUVscd7a1YSmi5O00lWgRJC62DZUnZyMrMJho8XegCWJcGodOyV9CrSzAiyN80lQLUSClzZNcffeQ93PvMS3iknQJBRLsUW1giYuQ4oiX7QxyfiETSVuiqPKm0odytgebpkMVfsjyl79FwngqQpiaz8EpLb7h7iSGzlkAuk8O3fUc45uezZ9KVrSqtuLo8rS0FiG3tUTbsI3z36++IO7wLy0Y7YnQgn2i6Va5fmpwmwUJWgAqVAG2VP2zkAmxJ45exK/rsF3y92WegdQ5KCivZd7FUby4wpZw02frUL0IL90C4WYv1E7AiGesEZI7ks+w44gobMC6oS1FIGmYtdDqIrsQhWWyBYhdf+AdawlpKhKnhMkVQl+vDJEhQaN2OhfGSkWfRixI5rEiKrSsTceTIERw6cAAHDh5F7PEE7EnQx1JYqc8FWCnQprsrwiwcIbpwAH8c2YfDJ47jVGYF239VFwu5NQqdnQFHb3QL9oaTs+0dsFG1djlayR1YOTpYmky2y+uvPbOXluBKUh77rkyKxt/79uAAzWtyHNt+FifiM5BM6sCNUOLiAEdHBaxInssNwpLmtaOTF8trKvio/KedujEtqlz9xlNKYXlNHZLI9QsgmKgRSavrIKVMJWJlr60oZ39LgsTw8fGDBylCulaR5oSI1CIvrb4t0HTZuPvAlmQEvcbaBnl+3RWNdEHN9aB5WkXe45/ylJJY7mb4pkelViEnS5/POhcZbGhbNJU71grIrByhcyaDTT/S/nx8WJ3kiyBundotgtM8pCVAnJuCk5q6wkXfcOkyaY+gLLQJOI60IhmKjJszVPoVRkasG7Vaqwyf9anbXJXFN6Y5lRbm4vCX7+E7r85Y3n8CHvC0gxcZQZpSpixkYf6syMKGCZNYGLoHS1+pdGxUf+WneXhw/GhERQ1mR/cHP8BrS1dX50WRG9GpfO/Ggg+ewuSJnsh6azKWTR2PsVHPY+LGZFzKV7NwRmjH5OEfALm1A/tbc8csNr1+x8qwtIWcjNCNGJROtCu5iqtXNuKb+0Zj7Jgx1XkdMfZpPPjSYhxRVSBb3VDdafiZdAVcY1R3GHXrZnoiJDlJOCdUYgfpka1Ix6y3DtB/6OFDxiAu6BoSg+RiSxTnF1drTjeKzLSo6zy/IcSaG1i/XSdPKUK7EDZQVFSmI5u0Fbo9QVKRg/iYI7gsJ+9CBJwfaYum3kgUbm5w9akRaNX5xLlleB62BD5BUNm5oqdUxEaNNZDsF+hoMw1ZCR64ltQbIYEiOBh32DYwqmu4O6nvtEet1Yc0LWCtTW8EOAqwdBbVK/hamlPqRihjNuGdHwJx18iRWDitJyzrLl8vPIW8o9+zMBqHgVg2tx9EFvqltXQZLq6sxpafLuKFn9wxYsWv2Prnn+w4/d08vP38QywvjLCUthuDkEnP4dOtf2D9+sVYtjASE76fjVW7zuHXqyZ7lyxtgJ5P4ovnhmP/Iz3Yct7WjBVJfv2SIhpLQ5pgZSlUlTXnpeUJ7DPBNhKjOs3ER9t24qddx7Bv395ax5YdH2HWsM4YQ8q9NnVrgR6tlnbqDV+rpk7dLPcOhNYtAJ1FlhhJ11YT1OzF6D/0SEOFMg+p12zh5iaHvbN9teZ0o+jTZaARjccUnfQG1JY6eUqh1gCxLAaX477HV3dHYcrQARj4wAJM/aUdxg/pgWVP9KypjwY0gRPgHfkI9r80FJ18iQZlOM+5df6hBnL+PTpUqZ1g76AfJUqKilBarEK1PiAqb7yRNjA6rF9gtZtBSUkeLArTUa4RG0xiOha/ulD/RHd7G7jW7fjUpSaakw7KC+eQc+ksYm27wSPAERFdHQ1mSANE+FQkxaOIHDSMzM2fhTNuTWFkJCGRjI5PXxAjtG8vBIwcgVEjohDW0RP9PWu/r/42D9i6eCO0Xz/0Gdkfg8PcgXNHyQi7BEfzNDXvTTRNndwePoIWATZilo+tuSOouy/J6CFCVMfMSlf6UUxH+RrrIMDWCgqrADY/4tQ3HCMG9cCAAZGIHDCg+giP7IcenlYNmj7p3E5drqc5Uej+n4ZwtK4ZKNA6rkdfcsY6mK9uC3epBo6W6mrNSZtQuwTpX9dLV2PzsXX5J82JvUcdzYnOnVFOZCnYpzo3CenpqUhJtYc12qCtd0eEkLpetx1KrWxRYunA6qSViIumpqBuHnOaHDEs2nSCVXBvTO68EV/t2YuH3juIqjK9PV1Xqkbe2i+wQhqAD0PHYFSwDbo4GTqHuqPTG5hzqryajz9m3Y+vTmVjUx7tjMQo2PAdTkcfxIqQMejazh5RXnU6KZmtXnMyLIJY9+FmbHpnJ5scnxTkiygSpPopNIzkNPb/9nt1mLvGDcIUcumfnK7SjZnHflmF7dv21TFxGhsz3TwpYzvvxa6+6NxTBoVcAnuTEbCuNA/pqx7AiEc+rHZRU78bayVcTEJZQTGbXDfmgNFDhFDHzGoh1ne0pqN8atpUe/fFxL770M5+I17/LgmlBq2F5CQrM+PRGHRupyEa6l6rDJMsbM6pDuWOoVC3j2Jp8RZtwkOv7kVhMd1Uq2Nzk/XqoEPNc+mckxH6XPpXQ+kyak4Nzcc2xD9pTuw96mhOchsi8BPOY9fkF5D/+m4kJqcgmRxpqVtxJXUZ5vb3wRBDWFOo89e4FY8i4O6vsflscq0y5dwa16u3nKZCcILcPQj3vL8QDyRswrBVz2Ps6OEYOHAg+o9/HCO3tsWk+6bgl7cmIpA0PGrVa2h02NCck7EBGEfclm2dMeDVx1Dx0nScmDCEPWPm3Cx8ndMVb396DzraWbPVdLUwak5EixMdOci8LbyXk42T70zEI2MGIIrEQeN5cu1xrDpTwMJcSszHZ2WlLMy8aVHs+ujho3D3y9/inTNSlIY+hvHDnPHs8DPY+OBEzAqPwNBR4/CRdCyu2ffEMCcxGz075BQAp7/EvVMnszjos8LD78Jdc9ZhYch8RPTyw9R21+9kWhc6WPoHwzu4PYZd/h7R78/EI4Mn4WmSt79drBGzVZUNDEQamB+R2Xhj0GvvY/hjj+HRffdi+qjBJB9peUSx8oggcXd8egOJOwf66XxTGu4+qRBoqGOw1JgMAxrQ6iUyRwxf/D6mTBuEYRvmYcbEkSwdg4aNwfBfPLC1qj9WfjYD7dxt4WWlH5zVxfhcbVX9tNXS6G5hzqlBl1ANzTmNnINvrL/F5AOPV9d9fZ4ORK+ZX2Lym78jhQzjTGd6y00EXKX45ubSOA3DhVNLQFdLEQHlENkbXbsGobe0oNqDcVHWZZyTBSOsSyDad3SDk6V+PoiNDknDsbK3g7dr4/Z1YwEaR9wUz0AP2CiUKMm5yp5x1aoDSiWOaN8jgMQvqdZwdDJ3eDr4AU76JbtQkUZKRpJSf1t0aN+u2qRhTOsV0h9cKtYH9XC1h6OjPQtDD3qdek6XEYFVTDoFlZ0PXD1cMMRfibzcXBYP/aQUtY+Ek58lfMoMI2BlNtKvxFY/h4bNUeYj07knfB0c0FZRW5ha2ruhU6Av2nvaG8401s2aI2LIZZawdvGEb4gG3rkS9q40b0sNLnZc2rZlZmAfRf23klnJ69QHBTzCIhHg5YJ2Un1eG/ORlgeN+3KmvtDqa941zZ8+08PRCrZybW0hoAiAv509Ap1sa2si9h4IdLaHS2cX9qdEYgmJhQcc/b3g0iEYvTxq0kI/07SuqHDyR3h3D7hpaXnqa6HKxxN2bp5wkNUuY4mFPm32nq7V6aoFeT5tG6Z1gGqXEntfeFiS9Po51kqvnDyDhqfPqWt2M81TjZUDtIUiuKgF2DpZVOel8Yi5eh5H0y/iaoHOMKemx9rRjq3W8/Z3hbNcrF/Nx/lXcN96LYoOZaX6+RZTH2FGX2ISC4vaowWtis01qEgroH7C6B21rjPoWSXzyfbrzAnIUDjj5NRDzCebi52UPae+XzMjRagqF6NcUuMnjJrtSsoFCNpKaKrEkFrUpNPKygpasQXpVlRQlqnrXafQZ4ktpGzPUVUV0f5MfPyVWmhhI7ZjI1qxUAWJrb5DkJP3pPHVhcal949WG+olgvo8o9frv1MrwfDONE9sqyTMV5ullPpf0/vfUwkN+62rqtKiXCeqXghCzXdG6H1157AoNJ9oXMyLguGcKSyG0hyUiezrPFNvkiutsmAdvalPR1q2tF5SjL77KCw9ggbKkhq9gtYTC7k+jup6xtC/K/WFR3r2evvUaOzUnx/1h0cFZq28qNU2SNyGWMWkTpeVSplvPX3doLEY/E5aGOqvSTysjhKMearOOIeiLQuYNQNt2mDVK/fA007Eyohy6asZSEuMw7Mdfsdvd/uzuTwKjUcqVLK8arAtc24aLpxuM/rm3XCnceMUVQunTKsgnLj/TywfKGrAQWxtjM82YkyDaZr0TbsxaoekHYSxM6iN8VpDmMahxxjD9Z/NaZj6+fnv0JfCzZeFMR16aoRH81L7qTf/PBURTrFfzED4pdnQBQci9/1hzMxOf7uJmr2PvjEJF+Ky8Gbk5lrCycit5hanPjwHbzO0AP59IZhav/UYJ6+vh/HZddNg+rfp+frUDqn/1tAdjQkmimkceox/NX4Pp3Hq5+e/Qx/XzcdoTIf+MH5rbmo/9WbRoUyphKasBO5O+QizE0NG/i4lR0lpMRFcqcjK0yC9qrZAMkX/zJt/Mqc+XHO6I6jRnK5oFLg0+xg+GyjlP+/N4dwk1GRcWXgWX74yB/nHs/CDsnb36DjpFXTyD8ZHjw/Sz9/+8xiQc4twEX+HIKuQwb5jLwRFDkcnJy6UOJxbgfoBtHT3QYhPEPNTGRAQWOuggknepgPzlsIFU/PCNScOh8NpkIbmjvh8UkvBhROHw+FwzA4+BOBwOByO2cGFE4fD4XDMDi6cOBwOh2N2cOF0h0CnaVNSUpGdrXcRxOFwOK0ZLpzuEOhGwVEjR+Cxxx4lf1FRxeFwOK0XLpxaPTr2k9zvv7sYqWnpKCoqJOd4sXI4N8q1hCR88P77UJIBHsd84L1YK0ZvykvHnj17sG79GuYl3MHBkZn3jA4tORxOwxhN4RfPncY7776H3LwC/QWOWcCFUyvGaMqjHpvPnTvPjidmz0b//hHIzMwyhOJwOA1hbD8TJ9/D/rb4hx8n5LQsfBNuK4Wa8qjGRAXToEGD2E9z07EGHQmuWbOa/WBcYGAgZs6cqb+Bw+FUQ9vJqlUra/12FW8z5gUXTq2URYsWYfHiJTh//jz8/HwNZyk6KJWl6Ne3L/x9/PHTpg2wVSi4iszhGKBzS4f/PoInHn8UBw8eZu2HnuNtxrzg+X9HYLo6T8wa1p6dOzH7qUfRuXMo0sgokcPh6AXTyJGjsGL5ciaYPD092HnaZrbv+Iu3GTOCC6dWBl3ocOjQEfY9sm84LC3pz13XLkb6l5uPD/wDg5kn5dgzJ3D27Dn9RQ7nP056eipb1Uo1JgsLC3aOthn6N28z5gM367Uy6MjPx8cXc+Y8h4ULFxrOXh9/fz/W4KKjow1nOJz/JrT9UM3on9oDbzO3H645tSLWrFmDaVOmYsPPP2PGgw8Zzv4zP27ahIceeggDBw7kHiQ4/1mM7efzzz7BsmWfG842jGmb4RrU7YELp1aAcT9GYmIiktOSMSAyAm2CAvQXb4CIXr0R3KkjkpIScTUlEVlpaYYrHM6dj7H9pKSksPbTq0dvhHbprL/YCKZtJjkx3jCoM53b5TQ3XDi1Auh+jNDQULbs9cLFi7CxtTVcuXFoY0tOTsG9U6Zg6n33Gc5yOHc+tP3QvX90qThtPx4+PjfU8RnbzOKln+Kee6aQM7y7bEl4bps5pqa8++6fYTh769Q3V/DRIOfOxdSUdzOmcFOoCZC3mZaHCyczha7KMzVFRIT3uylTXmNE9OpZx1yRb7jC4dw5NGTKu9X206VLp1pthroM4zQ/XDiZKdT9kNEUceToUSgUCsOVf4sYvbt2Y66Oln/xDR564N9rYxyOuWE05VFo+6FbK26d2m2GujziND98KbkZQl0T7d+/nwmmIUOGYMCAAYYrTQs1edCRJYWaDJtCM+NwbjfN2X54m2k5uHAyI6gpgo74lixZgk0bNzaxxtQwdEPv6NEj2ZwWNR029/M4nOaE7mOi7Yf6l6SaTnPUZ2oupAuUeJtpXrhZz4zISUtj/r0o1P0QdanSvOjQp09P5p+PunOhbl04nNaK0T8ehbomaq72Q10e8TbT/HDhZEaodQL7wUC6ZPxGl7v+O8SwsJDAz88bQYF+cHV1ZSYR2sg5nNYE/cFA6syVOm6lnsWpK6Lmaj/U5RGNn7eZ5oWb9cyEstJS0sASMW7cGDw5+0nMmz/fcKXl4OYKTmvF6KU/LS21RestbzPNB9eczIRHZ83AE088gS1b/sTsJ580nG1Z6por+GiQ01qgix9uB7zNNB9cON1WdNVexi2sXBDg6442QYG3bfRV11xBzSS8sXHMl5r2Q03hUVFRkIhbtkvjbab54Ga924zRLLB165ZmWzJ+K5hrujgcU4z1VO+l/w1y5vaNt3mbaVq4cLqNzHnuf0hITMETs2ebnb2ajkiPHDmCVd/+gKqKPHyzau0t+fTjcJoLuudo8+bfWPvp1LEj02BuJ7zNNC3crHcbMLomooKJ/uiZXjCZVyWm5go6+qONLCk1my3WoOnmcG43xvZDN8Pm5uay9kNXnN5uGmoz3MR363DhdBswuiaiI74tW7YYNCbzLIqvvl2PFStWsFWEx46dNJzlcG4fpq69duzYbnbtx7TNLP/yS8NZzs3CzXotjNH9CW1Ys2Y9cttNETcCHf3RRlapVsPeUYEnn3gKEjJK5CMbTktj2n6a07XXv4W3mX8PF04tBDVF0BHfM888w0wRNSO+1gF1rXT/1MnMXEFHhQEB/q0q/ZzWTWtsP7TNLFv2CTas38jbzC3AhVMLYVzJ05o365nDRmHOfxPafqgpb8VX37Sq9sPbzK3DtcwWpKysDDbWVq129GRla8tGf7SRlVdU4FMyKuSLJDjNDTXlrVq1kpnB27Vr36raD12tZ9pmPnj/fd5mbpDWL5y0KgjqUmbjNT3K1Fqobs+m8XrQ0VNRURFsbGwgFluQM63zlzRpZaEdAx39WVtZ4evlXzNTC29snOZk9erVzMv4c8891yp/osK0zXy5/EuTNtM6+4GWolULJ1q0yl3v4sSn96Nz51B2UK/EHTtNw/wtZ7EhW2cWAsromoi6OaFewFv/mEDHXCx9/d0a9sNrX674wnCew+E0Bm0z1D1ZTZvhhqvrccu5QyV//qXDOHQhBdFXC+qNATSFqew6vZZcWNEMYwQdSXwREvO0yC+1gre3L1GfA+Hi6oouFVUoSCnA+dPxKKgkGpThjpaGanDUY7HRNZGPny/bC9H6EbPRoIezG/OiXlzI93K0OgQ1VBnncP7vaFZH6UHdAB0+cRxXlQKUZjCop30MTVdAYHtE9O3Z4q6JmhraZqh7srbB7VCQV8jejVsdrgNdEHErlOSmCN8M9xA8H3lXwLydQpGqynCFohUSt7wj/Pl4gIBHNwhzt1wynG8qtOQoFHTCYeGt2cuEV0csFS6SM8X0dEWBIGx/Thjaa6bg5f+isLqoQsilt7Q4WiE6OloQiyXs804kOTlFsLNTCAsXLjSc4bQWtCXZQsonw4UBXYNYHaWHlb234GT9sLDwTIGwJ19jCHn7uHot8Y5tPwsWLGBtp7i42HCGU5dbHopYyy0xfvpQdIq9Aumhzdh0IQ8nytRsRIbUX3AlLgNbNvphxpDeCOvsYrirqSDJFqwhQkc88spEPPTlJARqAVv6NpY2QKdwdLc7i/Elx3AwOh9FZCTY0sx57jnmxmTfvr3o2rVrM2iOtx/qkZn6EaNMmDCRaYp3JHnxSP9tHnvHgQMHsmNY74dw3/8+w3cZOuRVCjdVvpf/+AzrX7gbXd/Zg1Wns8iZmrvp/OmlzyayifOuH59ARjm1Szdt7RGEC1CXXcWa04G469nPsfXPP1k9/evtaVj/phXWPfE+Nm09hT2G8LcD6trr+TnP3dHth3N9blk4iWTWcOvSB+2FJASozuPvNC1SMyVAZRkKk9MRf0mFA1b+6NXHHt0VDvqbtCqU5unNfaamBHZcSEEeCWKshOyTdAoNhU3OLEKemprHHNiP8tFJUjl5dN2XKbdNQLnWyvBXy2A05RUUqeDkIMeAAZFEnbe99Yw2Y4zuWvz8/FBVUck8MtMffWtuaN2gJilj3aCm41OZtU3H9LuuNIeFM5qWb40i5OflID3+MntHI2XSK6Sex2PrnqtILiD12vThN0B56nnERl/EqfMpRADphRsVTCJlJg4fuoyY5DgoqzSoqiSDvSatPeRJIjv2TeM9CGGRfdBp5HD0jhiA/sND0CnYBtK0TOTGnUdqsarFTeJGUx5tPzZyMatf1Bx2p7Uf+oOIkX3DW6zN3A5Yk7hOH64feF0HgwZ1y8QuGSX8MrtdtfmuqiBFOPRsG2HaEzMEPPWn3tRmQCckC8e/fl5YEaGoNiXQg5oSug/9SNhIwpiGz159v7D5ychaYR1sIoQpay8La9JNAppiMOuRSi109H5AePGIijxVxwyBLUFtU15LPfX2Q80TLWnio/Vu/ZQ2LK/Dnl0u9F91VSitrG2KKjq2Rjj24YR/YVrWMtNxZsxG4b6od4WTRIrQusQ4tUw4s2wmq7uvb78k7Gahbwz11d1C5o/PsbpM0/5RgkZ/b8FJFu8o56HCvc98ys6btoemo+FIdbrzQn7SRuEpSzkzlc/eVyVUtLB1j5qKa9rPnU1Lt5nbwfX6cFq/r9dq/uWARAf/yKnoM3wigrcfhFXMX9iRuAvfnraA2KIH5t7VHTKDRY2OCs8tfQI/XqjCwpD5+O3Xn5nKTk0Knz+hxMN+l7Dg6Q24XKFGRkUhkLoRH2/UYmdMGD7athM/7TrGwm/Z8REWD3XDMIcaU11VuRLKX5/DvVMnY+CIiRj48h+ojJgNz1eexsz2UrhpRS0y8qLPNzXlNe2I17yxsrLCtm072PfRw0chOzuXfW8e9GqKwlmLyC7+yP0tAWXrN+NXUp2beiKfmo5lPiOxcOV0dHCWsbpE0YR0gJVfN3S13ITcxEycSdTecGlbeHeHc++xWDw6H2FFp/HDb6dRodYi8fwJHP39FxzvPQz2PfviXneDqVpQQ112AdvfmI6PZwyvNi1GDJ6E+we/hx+S8xGnj7p6tFrdHho0Q+rfoS6i+KOQnjqEnTZtkNhOgiD/hsM1F9SURz1A1LSfOxtqUTGaxZu/zejrBrUmULMxrRvUTH3391fw28UcfQAjWhUzY9P9ZdS0XFypMVy4GYqY+XjnWS+cF6ayPpyWK+33N7zRFWWblmHDwq+wh7Saxtrsv+w9xbD3tIatV0d0hwoW8Rdx7bASmRd9oLaxRWh7N6hp/SaNS1tWiLQrcciqLEamc0+ERE1iKvvIwREYE+GNIJ8y5CQk43JeCUqp3KlQIvGsDZSW3nAdFIURg3ogkoQPj+wHX08HeFlLWAooEp0KxalxSL8SizNnYpBUUIVuvh7o3j0MQQoJ5JIm7rHqQE0RVDWnrn2oR2KaTnPzMt7cUBNfJCkb6kcsOS0ZV1OMHpmbI+9Nqq3CByLteZRcSkZxZhFK2d6Bf3omuU7qJDUxZ6WlMe8DxoOaG9geORaOPscBTs62zHRsI6N1iV2AVOUIS3EpQsrVUJJnVubfxLym3BEip3YIDZZDbVWJ2OwiFGvJACs5FRm5GcgPCoW/nwIepI7TFGg1eRBlZSEjLgbnk1KRlJTIjtzYeByPz0AyaTPHilXsrUVkEEjNkElJV1CecLk6bFxmNq7lJyG3UoBaa5I/qkLWYdF3T7qSjYSMYpRb++GarRtcLVtGOBnbD/XST10T6U15/4X2ozdbtkyb0ddmXVUl8hPOI3vXHuyKPolNF8hz89W1zLeCVgNJ9hVSty4j9tq/EJiiYiSpfFHl4IIZIwajN3nXcRGdMbyXIxSnSZ+9Jw4ZpD4WiRtpOwYN6l9A1LLcK2xl3sP9O7AVP+LJXzEzit4koBUqS88zc8UTTgOYueLtE1Um5gqtUFW+S7j0+6fs+kcHUoUfMrIE4fJKYYafDzPPTf9LLeSq9OaUhpRA48oj48pBqi5TE0/LmCS0wsGDfzP1PDb2rFBaUmI4/99ErVYz00zHkBDh/ffeM5xtWmgdMJqT+7y8XnhpcHfhvXAPZr7bH5+vD0Ro3KxXyOokvZ/WMVp29KDmBrrCc1liATPTXReDWY/eM/u7Y42bmRtEK+gqST0hdfz7OS8JU30eEbacWiUsfPVBZtKbuzezerUcjTV911L9ytfHVgthb+9m9ZseeXGH2Ps5j/qA5QNdsSqk/Mza0nDFLGHJjj3CrixldXhlqapem0jb/BKLI8DehuVBsFMnZiL9Jb7l28+27TtYOv9rtESbMUJXWdNpF9pX9+sXzszSk974rZZZmtbNzBUThdmvzGdTM7VXYt8c9N1qoE8oZP39l1GhrO3Rvv1CQcMVTfImwSCnbhERdDotHJSXiOQvxMX8Nhj+1BMI6+WGcCdLcl0MSVkq0fLS8Nm6Q8gVKaFJuoBLpw5g//795IjG4eiDOHwqHdcuV8B6yhS4KyzQxUkOuSoNXlIPRJ86iPwLR3D2fCx2WbZHsEIGO4ua0bOgLoM64TB+LWiHbKkT3hvTATKJBFKTAXZz8emyT3EpLg7h4eEYOXIk7Oz0k83/VejPZVtbW0Mn0pFRYAmOHzuGLl26wNKS1oWmgY7ns4+sQ0FBIfY434NJIUCgtyNO/F0O197tYOmqgCfRctTpschPvoSVBZ0R3t4Dw9vRVaNFyIrdjbO/b8X6ZE9yYzDGjhnJyi/cwwodbXNxJo2MJPPUcA/1gR1RxIz1qOLMT0g4sRdfbvgLp7ftwsYEMuILm4D+g3tikLctnK3ELG3/jAgiGqdEjOK0s0i8dgHHsopwOkaJYq8oPPF4P/iT/HKyFCAqPI2YfX9j1+Fs+IdPgV+HDrinizPJTzmp4yLYV6XjwJ/X4JdD8n1aJMLyjiI9IQ07d+8FIu6GIjAAvVxIWyLxWcqk9dvExT+Rk5qMNcWdMWboaIwc0wtjRo1BB2fA05oGaF7tac2a7xATc4bl//Bhw+HmRsuoZTQ2c6El2owRcaUS6dHf4bBTPxRaByMw5SDs27ZBXJUPBgcrYEnSAG0VymI2I7rYBScr/TF/RBvIWcWhGl0xaT9bceS3Pfh921aifR1CdHQ09v6ViXOpqVB0DQbtAaX0YQT6bjWISNQFkCYTje3P00hM9YXH9PsR6S0hdb1+mTdB962D2MYBbuGDEBQ4DJHwxpjxfhgS4Gi4DqjU+lVOWm0KMk7vwh/rP8fHH39SfSz+bDNWbNqLs1b6DapaC0dU2XbBqEcmY+I4Z9hsX4W1ny7BRx/uxJqdlxCfUVzL84NYagG3gADIrR0QZkdfqQle6wZZungp9uzZgwULFrBVRRxSIS0s8Owzz1W7a0lKSm7SzYamRg8XRzs4RLVD32F9MDj+KJJTlIgmHbW6wYVAOghQIvX4ERxevw5rLcPhP+0FVnavkWPuc4MwfUgRLn6/H3+sOogL9BaTtlUS+yfi/tqIhQsX4Y3fjmFnsgjB9z6KiWHe6OioN8HdMCIZ4NgDvgFOGN0jCT9/vQ7H1Z443SMMvRys0FZBGqugAUoTcPZMEc7FOsEr2AfduliTDqyUzcvSNqAJ6YKexQVQVKYjO0OHAkt7Fj1ta1kJmTh/OQelSr07L3rUpURsCblrAPK7TMWjL77A3OxMbCth79Oc7YjWB2rC+vnHDTh16jQrA/3Px7Rc2zUnGmoz1O1ZU2PsN6vc/AD/3pgapUFp8l58+/dFZhKnrg0aRt/q1GXprP2c+v5dLFv6MRYvXsKOzz/dhe/WkUFWsQpqEtS0jVLomoOSklxU5eZDef4cq8/H2yrYvKa1tG5oPU1QE0gUonLD99oYX1Qu048ApNq7Meve9/Hu2SSciYll7nyMx6WzR/D34a/wWrgLprqL2RyG4D4KbsNfxbqzF3Aqdg3+fK8b+n9xD37adRZLzphM0slJg+z7PHbOH43fnwyvlzGclsVYqYzuWqjrJuqupanKxbTS0sl9T5+JsAoagmFTs/D3xo345LW1OKdSo6DSsHxcZpi/IJ29KPUYLsdJEZMyFm8/Ngjj+geydNE45V07w+euhzHephh9ypOQlKhFZZ3JYEsXH+hm/YhVv+3F+U2f4rOBUvjY3PpI36PXIISNvAdDbWdiYv+eWP1yf0hFteNzcihGpe44vrq3Nz4aGKZ309UhDJ16RKDbgOexIj0f8VVlbN5L4jGRxDcTm/5YiOCDixB7zzAWfsibG/Hm4frzB97uTvBwNmz1IBjzork5TrQlmq7ZTz2Kr7743HD2v0tDbYa6PWtqjHOmVfJg2PoEYfL/HsdwFxcM3fsjVl5R4hTdq9ogSiKY4rDtpSfw+eESvBz6Hn4/cIT13bQv3/5mPuZ2OYZXwxbgj9R87DPcRaHbOXJ/nI0HBg9C+35jEPbwSsiffhrD5n2DmV5iNrfaUN/QJPVQUBMlzkqvNZzxdmKfFH3kZLTq6IoCZw8Et7uGMvcyJCdWwj4ogLnzoT+vrP/0ZZ/2ltLqDBSRTsXC2hZuPj5w9AuBwt8XvlQs10FQl6Mi7i+s+fUw1vx1FgXkXFN1hI1BJ5AXLVrEPCU/9NBDhrMcU+ikdkhIB0ydfjdz1/LR++8bJnz/HfXKVmsFC1dntmo0MuskQuIP4OfjBcg2DjzJqK2atAQUF+fjNOSwd7aHrY2suhGIRM6wlnvBzzsB9g4FyMnWoKpaddJBrnBGvsKf/eXmF8j22LlYiqrr661AB27WLp7se6C1E2zt5bCSmURYoc8vicQP46c/jV4zH2R1bubMh6o/n5l/D8Y9eQ/6BYlgSdoPbF3g2Kk/ht49EyOfmYhZDwxG+4y9yNj8M369qmWbho2ogvqzlYNzx4chwNmqRQQTRVuhQlpaBuwdXVg+cvSYtpkOnbqyzdhN0WaMmFqc1HJnWAX3RpduDsxpQcxvBxB9mmjaVbVdrIk1WmiryiEruIjdx6XQWrpiBhE0Lm07sj47yMcFvYcMhbOHO8JKzyChUAxRQW0tvbI4B4JXMDJ8x2LGsy9g8tjOuLuzPWs/tM41VO+ari4aGlG39AKIymTsux6SUJUdaS8hiAxIRUbiNeyKSUVyTgEzN1AThf5TibKyStbxsM5Hq2LnjNdJ3jBsgxoWTnkHVuPHXbuwaGMs6PjwZjdF3gw0XRcuXmTqLO0cZs6cabjCqY24WcwVDVVaidQFXhMnoFtgFryyd2PX3xew7VSdUaCOVIrKUhRopMgvqNH2a6qKnAkLR+cKuDnnIU1p+iQxFJ6e6OxOBIdBE2uuKlYr1WTQpxWCIFL3Qd+X52L2wrewYMFrWLhwITOF0c83X/sfnp45CoOcJOQNCNSS4NgNw554Cs8veAGvv/0Y+qYcgeORzdiUoENOuckbu3QHPHthQVQA3BVWzfZOprC2Xl5h4qWfU0NNmxk0aFCTm/jqDqQqHXoz03Kf9qXYvPsyrp2/ikt15vx0UgkkpZlAbjbystrCy6cXxk0NgJNhNSl1yCB0747gvqHwF9QoKaxEqkpUry4lB46E7/gHSJ19A/f3DMDktte3ODSJcBLpqqo1J4pgU6dTII1FZh2MiZ+vxdMRdpi2aTxmDIqs9iROjx6DxyLksR+xN7sEOWlpRO//FOMGdqu+7t5xCobP+ZGpkyMGdsRzXeq/mEpZk/OyphO7taANa+TIUVixfDlTaakLH07jGIuhuc0VdA5HpO3OzBRzXhyK3G/+wtVz+7GjuMZkRXpCwCsAgURj6imtqT/6NOrnozTyQsSe7YT4a+3QPVgMmYVJPev2GNpOfBlJb0WhT6BTEzSehkVB9dBOJIXg2wftQzSICv0Tv22Lx49/pJMLtZ9M/zIeekzOCNbksIdniAPcfIrZVVOoV/8L3z7L2t6OyzlII7nQvAJKh3HjxrH2Q81Bei/9HFOM5divX78mbzOmmhNFZCGFV9QEDJn5Cp46+QZKYnbh5e9iUGSiXVPNqaqgCMqcHJwTKnHVsNePUlNXfIgIcEHXkBjk5BCtOKNm9kouk8O3fUe2JkCPSf28Dte/eqNY6F0EubfzQdtOHeFrz8ZvJpDHkIYmdw+Cwt0f/n0j4e/jz7yIGw83hTN8/K1gb2sJWznJGEsbeLcLq77eJcANwd5hCGzTHr4uUrbnxAhdEGHvG4Lg0BBM6OwOG9LAmgMqmKi7EVdXVwQF+jFT5J3hZbz5MXpkpt7ZqZd26sJEv0iiabpCFotEDkc3OwS19YWDJovt84mj+49M50QNgyhHhQhlSdlIJ4MhfQqIhl+Yi7JztPPXU3efj6ogDRJlIs5klqC8qLQJXPvUbn5WFXVjpKv/ZKzNdOjaFu6XjsI59kS1K5hqlzCGXwagd9NfA6A2/urrB4/i2I6DSFe1R5FzKDo5kRglNc8tLyyBuqIQ6cm5KC0vRVkzrpSj7efAgUNwcHBk7YfuHePtp3Fo3pi2GVqe/3ZhUV3NSajSwMLGDlp3G3QKbwvF+WJkXEyEssZTF8REgFEUKEGVyB5tJfr+lc6wVNckoYR9pF6zhZuNyc0EHdXk7T3QtYsTRnrUScD1MCwpb2G0dDG9/rNB6HnjQdHqv133nuaHulSh+zHongTOrfNv85HWgLhPJ7B9SoEf/M3cClVTUSBUZB1mHvMHO+rdZJnuc6IutGK+f4W50KL7hmr2P2nZvii6f8p51AdCyFM/sX1Dpnt9qCuWH5+fIiDiA2HlqcwaV0b/hoKTQsHBj9m+pBcXbWYuvOrXcP2+LOqu6ZVQv1quYOhB92YZ0yvse43tW6obhqaZ5lVdin95Vr8XzPBONI7maWE1Xvp5+7k5aHk0Vd4Z9zmNf/c7tp+ter8pdftG6s6iGY8L3j6j2J67uxa8VrPPyeBai+7JM9bTCnYjjUDv5ivhwPLqvao1+/7012t/uzFE9B+DnDJ76Ai3aVS9m4Pae6laTUcvsx6+n6nbFhZ0BHA7UtP6MWqg1LRDR9Aff/KZ4cqNc3bpaFy9eg2Lgn/Aqmmh6OZpmMwX1NCVFaH00OdYufEvLPvlApLu+ZZN+H80Nphc10CVcxIF547hyZdXsrgKrfVe8zUSJ8i8e2LkrLvQ3o2M8jq66edwDOSseQB7zqlw77FeWPnZDAzr7g4fomn8q1qgKoSmohQXU4tg7+oLGyd7tuejdpw6Nq9akBCLzAINCjS1tZsClw5wEVTo2ckPUqI5aSqKcPxqoeGqHrFzAKxcbdGNvJdp3NRLhlRdhJOF9ujo4QRrZ9ta79wU1Gs/PbtCYn3nOXNtTmibiYmJwZIlS2+5zVCoZn1sYRQ+dF+AQvcIbLnPny1Co+0GReewc+VqbNiyB3vPpqKkwwjk95yFoiXDYSvOQVVBElZPfxxb7AYhY9AM/D4zFL6OpN3R9QG/z8fRaxo89IU1Poieh/YuduhlYzBQU3daB77ArBNd4OIXhJdnD4QbaTf/VM9aVf24HYmlleJaQmK1ayLqbkRviuBN61ahK5IiwvuhqKiQuayhKx9v1lyhk7nDy9ULLpb6sVV1adC5J5k1FJ06I8QnCGHB/oCTI1xsaTgSSiSFpbsP3CI6Y4SdGOVJYubeJy83F5fLxYjXeaFHiDe6d3St1XjowIiu1qMrksTuDnCW65/4r2uB3BFSR1906dIZ/p4O1auX6iLIbOHcoR9Cw/uTOhjJDuomi35O7OiCSCKYaHppXDKvzuya8Tp1GxNOrtcVTBRbF1/IvTqx6w7NIJhoudZrP1ww3TTULE7zjrp3utU2Q6k751S9bYHObzq6wt3THv2sipBSokKx1F1/jSCxsIbYVj936SBPR+ylC0jNyEViQhKuJWcxt1f5WdnI6tEWHnIZAo2CiaBS693LxZ+PQ/SF7Bs3HTP9idMo1J2In58vc01E3b9wmg7qqoa6rLklE5+mQlCXFTOzRIOmAl0lc52Sn1fCyq22x3K9gYG6mqKHqXufmjKuHyt160KfScNQc9/NmCiaFoOZuxVAXRPx9tN0/Ks2QzD+aoTRrFf3R2KNZmZqEnfuM7m2+yLSpqjroW0LpjHP9TQNxkMaMZuZlo+XVjJzn2n9rEg/y9zLhY2dW21+vhFv+03gvujOg46SNWRU8vmXy1BWVo5+ffti2LBhUNjZ6ANwmgTqnsWS7vOxtmImi8TExBv2Rq0TSyG2sISMDMIaHIWLJMx1ipW1jLntMV0EoCMjN/qfTCZjB02HBTnkJBwNq6f+6E6QyCAlz7QgYSzE+lhuD7fvyTeCafuhrr14+2k6/k2boWgFUu+tpHD07YWQAGd081KYuLQSoJUSzd3aBpYOCqJxT0av7m0QFeymD0O0LJGFBSot20Lazhm9eoWjZ3gk+vTpg4Fj7kbP3v4Y3M4ddKOFaZsUk/ss7RwgOIWgU3gHRAa4wJ5U4H+qw61qzqkloeY8uoSd7mOie0k4zUt4eARbBbls2TK2PJ+v4mq9UHNTXNwltgSarjT7YcOv3IzXDNxqm7n+3D29SqEhjN8ppnc0FsP1Yr7+Uxvi5kJzOM3Ejh3b8cTs2QgNDcWRI0cMZzmtDx2OHTuJcePGYMWKFfhm1VreyTQTt9pmrl8e9KoxhPF73Tvq/m2ksfOU611rGK45NQDdT0CduVKzEN2lTSciOc0P/U2fdT+shVarZT9jzT1vtE5o+xk7dhzbpK535sppLu7kNsOFUx2oOW/JkiVYs2Y1Dh48zBtXi6PDhAmTUVVRiZ82bWC/sMtNfK0H4zaBJx5/lLefFuPObDM3r2vdwdCGRSdvqcZEGxZ3TXQ7EOPrr79h3qrpnB/1Xs1pHdD2Y3TtxdtPS3JnthkunAzQfQN0xEfdKvn5cddEtxN3d2f4BwYzt1XxFy7i7Nlzhiscc8XYfrhrr9tD3TZz+MRxw5XWCzfrGaA/f0G9jKelpbINbxzzYODAgeyT/tomx3wxth8+z3T7oW2GbixPTk4xnGmd/Oc1J2qKmDBhIvu+bdsOZq/lmAs6LFv2OTs45gl1TXTv1MlsQp62H27Ku/3Q9vL5Z58wIdWarQ7/aeFEV7pQUwSdSKSmvMjIPtwUYVaImVufLl06sb9oQ6PezDnmATXlHTh0GGUqHVspFhlp9DnJuZ2EkjbTu29/w18U0/1KrYf/tFmPm/JaF3eKueJOgZvyzBkd+U9M/rv5za/mwn9Sc8rOzsXo4aPYd27Kaz3UN1e0zhFha4ea8qgpvLYpj5eFeUEFk/6T9netsc38x4STjs0xXU0ho++0ZNg7KgymCG7Kaw1QE19Yt1567SkxHikp6bxLbGFo+6Fexq/GX4GTi6PBFM5/PsacqaxUtco2858z633w/vtYu3Yttu/466b8UXHMA9qwSkkHOW3KVDbAOHL0KDfJtiC0/Xy5/MvqfUwS0n64WDJvWmub+U95JaeFJOh08Pb1wuCowVwwtUKoJ2PqmblKq0Fol04I7xfONk1zmheqMX3y8ccor6hgeT58+HCmMZm3f3QOxbTN+Pr64igRTj6+/nBydNAHMFP+kwsiqJDioz0O58ahK/P694/Ak7OfxIvz57P2w9tR68NYjuvWbWAmWXMuQb4Jl8Ph/CP0ZzAyM7Pg4GDPzaitGGM5toYpDS6cOBwOh2N2cK2cw+FwOGYHF04cDofDMTu4cOJwOByO2cGFE4fD4XDMDi6cOBwOh2N23AGr9XSAVo3SwlwUlOvPCBZ2cHG2g5VMcovSVx9nVmYeZFYO0NnawMlSxCX5bUBXmoNyVSWylVpYSOtvtrV294GtVAS5RAdNYTrSVXaA3BLuCityjobQkTjyUKqTo1BrAV9HK16OHE4r4A4QTllQZSfghxl3Yf2JchzR2aGi9zysfP9uhHf3QHsS4uY6Ix0EpEFbcQXfjJmDw8HjoZi+EIv6SeBCBBSn5aCbPK98NhGHD13GnB0Z+pMmSBy9MPKTw3hriCM81Gm48PF4PJsURUqvMzZ/fR8CbWRwIsItb9MLeDPeB8u1g1G0MAr2llJDDBwOx1xpBuFEu5QcXP7jZ5yOPoj0iR+jeydPDHYyGfVqVcC1dVjztwQrrsjxxTMT4O9pBSdy6aZHtVdWIelKNiJnH8L0N6fC08cXvX3aIijQG3baAqSvfhRvXR2MCid/LHp9JPxEllCoC5G+433sKgrBJ4WdcPip7rAhWpYRASkoTD6OpX2fRdL4mUw4vdZbBC9r7ianpTm7dDR2X8jHWruHMGNUO/S0qhEsYrEFnDr1hr8NYCOpQn78KaSrFVBK7NElxA+2tDIR4ZSz7nEsSumA5cX9UbRkOBdOdaDa6ZVvH8Oiw2KkZ+UbztbgMHIWeg+7Fy/3lKLk+He4HL0Zj6WPxPSJgzB9UHv4QATttT3IP74VL2SNhdrFFxsfaEvu5DqqeVPTV8f9tREfnxej0qcH4N8bP8yfCgeFCC76gDeFIFxA9tk4bJ6zEAmv70I/X1dMbHvzVqxmqT0C1FBmJ6Ps/CGcyrNGUYHhgikZSUi6HI9jJ3NRKNagnNx1S4kprYC8JBcVBZ5wadMHfiMGI7yTHxEkItiIBBSTdGQUluBSngoVKhHU5CE6TRUk2VdwPP4yYq/lQlNLPtMCAxRuDrAN0iEg2QVFagEyCW9oLY2+JEhZKCyRHzQIA7v0w4ABA6oP6lG+o6NEP7CQyGDv7gd737bw9XKFQqyDtlyJwrR4pCgFFBYQzUtdiuTLcUjOLEJGubY6/v82OmY2zU84j/QrsTgRe415sDY9bEl+USrUWhRUVkAoSsa5VDFUWcXsPDmN8vw05GRexo+XUnEqkwo43l5uDVordSjNS2VHXqXQQD0lZ1SFrB4nF1YY7rgFBA0RJPnISUnBiQMprKyvXktGWnIFCslgT11RyNJAn1NSVln9DIG0Izqgoc+mR21IKFExKpR5uPD3VSSlKXE0T3NLtcGsatAtZbCBgm7t4aJwAP3NVP1LiSG2dUHvNw5i6/JnceyDiehhI7uBkYCYjAMVkKocEeBlA13XQsN5TkvTUOWk7lcags43nVo8HhMWfoeADw5BXRaHi79+gG9mTcHUd3bjz3W/QbzqXiLQIjHhsXcw7ackZBEB9e9q3Z2A2DA3B7iNfBXh7/6KA0fP4ty589XHivcex3NdyGCPDAJ8+s5C91ejUbT2Qcyd3JNpTcb7ZVIZ+1RYUM30v56vt4qS1d2ts6Pw3byFWHCEDgjqGLfyrgFHl2LyjJWY+tHvuExOqfVXbo7KMoiif8L+E6XYWDQeL0bHYvue9Yj7+l70In0lDq/BgdcGoMesrzHvl1j2HFqqqgtbmaY96vU/MGHNeRZVDfpWa0kGMUbsG5grvhGaXjgRaXxDWNoavphApPHlPz7D0e0r8MPJBOxasQw/LJnPfnFzwduf4bM127G3QAslySEquYuPf4f166Lx8coDcIj5A/u+Woa1Cz/Ai1svM4leVV6KzAPf4KvDx/HliUQ2ks6K3UTy/EN8vSMZMfsOQBqzFR+8sYjFvep0VnXnp5bJ2adMRDswjrnQmD8wFSkmTVkJcsr0g4k8sRd8eo5GxPT78FBUO4SGhkLc7zHMmfMcHr5rMB7sagMbCW30ZjU+uw3oWN5R1Aop1HJntpiI+s+zJYdCYQs7G8tqs7fy2nGk7/0ci/Yl4Ux8enWb3bZhKz7adBnOsVtw4ZfVpM2+jcUH0/DbxRx2H+fmUVelMKtNg6hKkWxBf5+uaebBCzr7wtbRCu42Fqy8KZY+vdFm9BwsuKczhvcMgCs7S9NVyT7jqiqgrKrb35POWbBHpaUVHBzpRM2t0/QtU9SwPb/eOKqy1PBFj1KrhkaUizPff4adX3+NQ1evInrh+1j9znKsXvohlr3/M75YsR+HUpTIKRWgVmaj4sxvWLH3NJafuAplxVH8sf5zrPh2DRbvuIak/ApUlhcjcesXWLzpGObvSGV/Z587g8Pr12Hxnms4duwYdEe+xudffopvf9mL72LKUK6rXdhq4dakPqdpsVAVoqIgFwX5peznG+hBTQ0qw3Xj6N2Inc4azh36od99z+Kxkf7oGjUAmq5j8fi8BXh65ig81N2Dzz0xajQnI0Yzt75zqN1FlFyNxsWt32DxH7HYcCm/us3u2HQUG2MyUHjid1idXYdVq1bihwOXseVqw5ou52a5viaqppcFNRmQK9kAu0ytZb9YbGwr9KDnjAMROu+vqSDXC0qg9XJmpwJzy6EqL0JxpV7gOAf3QNDQmbh3+kgM8beHC0kDHeCXKQug1MsnKKrKUVKSy+7Rx03qi8gOVgoX+LYphbVMr03fCk0vnEw0J22ZYW034Z8e5KSuCVt5NR8bHlmE4s+34qGdZxB9Ng6rZuTiPs9deOOnk0jPKYTcsz3c7vsKW967DwfenQxdv3fx5sbN2LLtLyS9FYWefvb1Gp3WzhMdJ8/Do6s24dCbEbjnsfugm/UjDh06hN+/fhU/TQuAHe+wzIbq5ngxHlnv3o1xo0egW/eO6Nw5FP06Po1BE5fhp2IV8kiQ6kZnQCeVkPvF+H97ZwIdVXXG8f+bPZOZyUwyCdkzSQgJhCQkEEgACRFRFCrmWLdWkR5ozylVscdW64JVq3AoLkcEjiAutRSXlkIF7VEilqgRVJBi3dgShsSEbJOFLDPJzPTe9+YxS2bLnIhR7u+cd2Zy35I3997v3u/77nfvlcgFLVCEWku0Lo5+xf/h4pt3Mi4MbZzrg0qphkKdg4UvfISHN/4a7/y2BI7lWzHpts38ZoT/WjETa69Idt3ACA9R3fIleI3VSTrRfPQN7Li1BPe9vB0P/XUbVpfno8qUhvKyMkzKvxF/2H0Ur50VLOXuvatxeOvtqFr+Ip7cuAF9teuxZN4UXH/Dauj/+B7f2dTVvoTDj1Vgzl2v854n6m588/cLseqRLbyrXPvKShxbdyvKZlSg4vH9WFXT7HobIMray3/22SJyOPKMvox6WE7SaLXrW2iGorw3vjo3pRDx2SYkZ2UgNT0N48dnI9mkIfanBRYb6aU5BSSaBOgSEpAYJ9wbEz8Jcfnp/FwWOsfJH1K1DobUHCQQ09UQSwRHoUFyYQEyknR8EAVrtMYOYllwMXooY7QwxsfDZMrkD3nxOEy0DyLdLoeC9GK+ikhwgmuhFxti3mnrv4HtxCeo2VeNmpoa/vjgg49wqKlfcKULlwk4XbJN5F2rjYMhIQXqmCg+qUUvyGyGQcmmX4wYYTjBE5s9dH21EwuG0tXUijrzCf7oUmVBOW0mYvQGqPvM6DB34AvzIOx2O+yaWHD6bGizU2EwxPD3KuJNaEmMxTyi2FMFhevqQKOlD1/ZODS0C2NISmMqjHI1siRSfioHlUt9Yi5mpmn58yL9ymj+c8xaTkHxGXOi5qSIsTgX1z34NFZM1PMh6BIiFoXlFcjNnk606Hq0DzjQggC+WAL9UfTw1QgDIefNWPEuilt7YWNO3x+iSDpT4qG5ayde3f029u/fzx9Hdq/Dtn338vWDRuaFW9YCo1/tf8iIeffha0/jk7U3Y9HChaisvJQ/Fl+xFY9tfgfvkCzzpwNT61TMTzEggiKksHweCWJ9V9i8raeRRgof3bATB144BNPr1di6aw9q3nwVL94ygPe+/BjrdtXwblvD7DtRessD2PWny7F06S9gnfcgtu+vxtHn7kX1iunnxxhVDqHUeSs5Oh9XPvw33LfmDjz1wCx0LrgHht+8gPf37cSmJdOxrjKRv3a0GP3aE+GYk0rttpx6eqijxlNjIK/pc31whPtGpk174tZe2JjT90f4lXP4uAkjfMS8m7lkNTLWvI9jx0/wR11dHQ6feAJbb5+HRaQDUw2XYpLzw9NYtF5kiPVdDMYS28FQ2O2uASAX19z5KC5Zvw1LkyVIVBPlXq7ErAU/QXpfKyTH63BsiChzrmuh0oCz+Qlq8AtNF97SOzIzOF1DkSn4o985+VhOjRYhesrzHw06iDQMeHc2sn635aTVCgHfXhqDv+g+H5QOcdxKuM+fNh3uD1b0KxAzqRQT8rKQH8tBjsgymBE5I2newrKcbOfQa+cCevUvVsS8O5ekR6oxAcaUVGRmmXjXXBpJi43TBOn8h0uUEMEVrqQx3HjXeLEdDIVU6j2u2mPUw2DQ8S5Vz1KIkgiBD6EJVHb+y9rf1eKYE2XshJL7WE4NbS2wdLd6NR4ypxUtzW3obj3jSgE6FN7jU87eHm9fK7GcVMrArjyKVeL9DH8CFV6DR6w4Yw4xYV8hJu9S3D9NxiK7vgf8Vc5A5RfKclKdbQTqz6LRacdIbPCLAX95R/NePNyEVyLMcooUf/kbOWIJSGTDp1/w0X0UHyOBErjkwi9rcczJTeCnBmJ0c8MF50xESmYqJpflwbppJz49+DU+PC8AzbBajmLHy0fQIk3DJTdeBVOUBpOl3jONuWjtMMtpwDqywdVQ2rSytxeSpgbezKUDvm6a4UQtnr3yOjy6YgOWvdHIz9RmXFj8VedAFTaQlUwFU5lfgdKYfuQc2oyV8yux8o71rEw98M27wNF6oUsk7kwLbCdPwQwuguboYsc7x6hbr6HBPDwgQtqN5tP1rj+A4atOCgRr3BXiSdVwj1Tg+4af8Wcl0/Y/OqsCP936Fh6Zo8cNE2jjH+xt/DPyO0JCHskpYIhLgireBP1QM9rMp9B0uh0nT9Wj/euTaDp2FPXkmjxpEiZnZSBeSaRDjP7xwNdyGinBtGkJ6ey4c51wnO2Etb4Zx9s6+CVtaAWhyy/Z+/vQcKQWtY3fkHMD6O1jzqALDa2cDsU4pOhSkKkRtT//TR4ta2lMGhKiDciM9RA4eRQMGSnQa2QwSTg0Np7ByfZ6vkypq5Y1oP7lxH+++GsuhCsVrpD9uI52KGQWmL84gzOWfpcCwHI5PLzzl7r1qOdp0GpzKxBO8r1fgfpvO5ExKIFO5wQN1pfKA5eNP0bLchJwDDujkioxqMmAViGDWhb4icHw94tGhaji61G4dC123N2NrI83YkVBFoqnFCFz+lWYe/Nq7J54N1Q3XYMnL5EJc4scwg/o5eTnBwIjH3MSCKZNJ8ycy2vTl375GCoKs7Bs2Rp+SZsuq/Aesjb3skV15wYhV0YeEsmInKJfPYPL7tmM3T/PQHESDVX2X2VlhhSUPbwTn6xbhs9WlrrdsFJSbqmLseD+57Dj1D5+OZ69W9Zgz9Jsvt59ZwLwAyKQnAwncOMUZcrBuJK5KGvajq6XfsfPSVu8qRb3vE31epbL4aOHXJ6BuZcVIDE+hvc87e4aOO95cnKfov/Uu9i29gCyllyNOVdXIZOm+42lFPKdriXqi0J0GkRoOdmGbLyVrDKb8ZXPHfQdW2ufx4bSGbj02YNYVe2e/zQSpA8RXN9HGQ6cVIpolQyymAlILyrGjBkzMHv2LJSUlGD6osWoHB+HdJ2UXkl+N/mBnB0adTQUUxYhL3ci8vTuBVcHbVboTAXo1ibhqtJspETLwU+hIGqfMjYdbQm5uHxKNkxiOoHu/yNTSqGbOBXz8/MwI9XlKiTvBfLZq1AiQzceRQvmo7x8NkqL0lGcpiMatRNOnQoOTQqK5xSitCAH0xLJe3l2lowLgpN0LjTaSCmThGjiqBtJBZmUI5o7rVMiJJ2j5a2AShkNpZI8i2hztI64r7m4ofKniJLBkFaKiaY4FCXpQLLbDxzsDglijHGQ51ZiUV48TLFCZJldxkFCZFdvzIKpsBBTS4owdS6Rq1QF8uJ9xx8YwRhykPIglpDaYET3p+/if72NMFfvxaEPa1GztxpvH+nDibgSXHftLMxN0yBVKyey0Y9zZ8345q030Fx4E7j4dCw00aeR0qXh4PX78ZfP1ajrkOGXN06DQU7aTbo7xIm9+M9pOWra9VheNQUGhZSPVaay0XnsfbQeO4ztzvmYmZuIyyfQ5Yg4SAfaobG249/79iHKUofO+tM4DCPa+hyusj6D9sYOvLdlF8wVP0OCLgZVk73nsYbDd76fE9W1PMNN+Vn7rm/++2jx2kDnvNPpUh2B1lsTrw71RE+Edw11F4Px40Ks9aEZLjFuyDkaresVFMXkJ1IGvv0c9f9YhSueOIzWLgdkjh4+fdyEIgws2YKDy3OEUHE+tRnN//0Ae+6+HYeueQXa4nL8ucwVxTdg4ReKrXxeheOOZH6vs4Jooqy50tceiMYzn487vweaGCP4bfVTOPDPZ3Gt/V6sqirHIwvo7nikjC2fAXUf4daqtWjo6eb30Eu87++ozEvHc1enkO6rFk3VB7Hplsex57aXMbUgD8+T9JFywTYbDL/yMxgMBoMq3lKrBS2dNtgc3s20zJjss7+cA05bH3q7LXBGJcAqI53M+dU5SOs70IWOXjl6bEP89AAK3x6TDspvOoGu08dZu9BIuiu9Wu52lTttcA7acLZFmP5D382pNSJWIREWjfU4T3cSl6vci8mOhB/BTrgMBoPxY8bTWo1Uxb/Q5oH4zpH/T9Y5MRgMBmPMcSG7UgaDwWAwwoJ1TgwGg8EYc7DOicFgMBhjDtY5MRgMBmPMwTonBoPBYIwxgP8DLLk2MPeov9cAAAAASUVORK5CYII=)\n",
        "\n",
        "This is obiously an over simplification in defining fitness levels, but it illustrates how dicision trees work. An advantage of using decision trees are that they can be visually interpreted faily easily. A disadvantage is that small variations of the training data can result in different decision trees and in turn lead to a large variance in classifications.\n",
        "\n",
        "This can be remedied by using an algorithm known as 'Random Forests'. It is also a supervised learning method that consists of an ensemble of decision trees. Using several decision trees to classify data can help mitigate the issue of having different trees being generated because of small variations in the data by limiting over-fitting.\n",
        "\n",
        "**5b)** Explain what makes reinforcement learning different from supervised learning tasks such as regression or classification. (1.25p)\n",
        "\n",
        "Supervised learning excels when working with well defined and labeled data. This makes supervised learning models excellent for making predictions based on input data, such as trying to forecast weather.\n",
        "\n",
        "Reinforcement learning takes a more active learning approach where it interacts more with the environment. This environment can then be manipulated through incentives to help the model learn more optimized patterns or solutions by maximizing its reward. \n",
        "\n",
        "This means that, with well defined boundries and reward mechanisms, supervised learning can enable AI systems to learn how to play games such as Go and chess without feeding it training data."
      ]
    },
    {
      "cell_type": "markdown",
      "metadata": {
        "id": "Wev-_UhcH7e8"
      },
      "source": [
        "\n",
        "# References\n",
        "Primer/text based on the following references:\n",
        "* http://www.cse.chalmers.se/~chrdimi/downloads/book.pdf\n",
        "* https://github.com/olethrosdc/ml-society-science/blob/master/notes.pdf"
      ]
    }
  ]
}
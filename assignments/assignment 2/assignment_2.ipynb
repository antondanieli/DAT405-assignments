{
 "cells": [
  {
   "cell_type": "code",
   "execution_count": 1,
   "metadata": {},
   "outputs": [],
   "source": [
    "import numpy as np\n",
    "import matplotlib.pyplot as plt\n",
    "import pandas as pd\n",
    "from sklearn.model_selection import train_test_split\n",
    "from sklearn.linear_model import LinearRegression\n",
    "from sklearn.linear_model import Ridge\n",
    "from yellowbrick.regressor import ResidualsPlot"
   ]
  },
  {
   "cell_type": "code",
   "execution_count": 2,
   "metadata": {},
   "outputs": [],
   "source": [
    "# Import data\n",
    "\n",
    "df_realestate = pd.read_csv('data_assignment2.csv')"
   ]
  },
  {
   "cell_type": "markdown",
   "metadata": {},
   "source": [
    "## Data cleaning\n",
    "Removed several columns to make it easier when converting the remaining columns into arrays."
   ]
  },
  {
   "cell_type": "code",
   "execution_count": 3,
   "metadata": {},
   "outputs": [],
   "source": [
    "# Data cleaning\n",
    "\n",
    "df_realestate = df_realestate.drop(columns = ['ID', 'Rooms', 'Land_size', 'Biarea', 'Age'])"
   ]
  },
  {
   "cell_type": "markdown",
   "metadata": {},
   "source": [
    "## Creating regression line\n",
    "Converted each remaining column and assigned them as X and y. Then the data is separated into a training part (80%) and testing part (20%) and the training part is fitted into a linear regression model."
   ]
  },
  {
   "cell_type": "code",
   "execution_count": 4,
   "metadata": {},
   "outputs": [
    {
     "data": {
      "text/plain": [
       "LinearRegression()"
      ]
     },
     "execution_count": 4,
     "metadata": {},
     "output_type": "execute_result"
    }
   ],
   "source": [
    "# Implementing regression model\n",
    "\n",
    "X = df_realestate.iloc[:, :-1].values\n",
    "y = df_realestate.iloc[:, 1].values\n",
    "\n",
    "X_train, X_test, y_train, y_test = train_test_split(X, y, test_size=0.2, random_state=0)\n",
    "\n",
    "regressor = LinearRegression()\n",
    "regressor.fit(X_train, y_train)"
   ]
  },
  {
   "cell_type": "markdown",
   "metadata": {},
   "source": [
    "## Slope and intercept\n",
    "After creating the model it is just a process of calling 'coef_' and 'intercept_' on regressor and printing the values."
   ]
  },
  {
   "cell_type": "code",
   "execution_count": 5,
   "metadata": {},
   "outputs": [
    {
     "name": "stdout",
     "output_type": "stream",
     "text": [
      "Slope: [21810.15747254]\n",
      "Intercept: 2096462.0947683384\n"
     ]
    }
   ],
   "source": [
    "# Calculate slope & intercept\n",
    "\n",
    "kx = regressor.coef_\n",
    "m = regressor.intercept_\n",
    "\n",
    "print(f'Slope: {kx}')\n",
    "print(f'Intercept: {m}')\n"
   ]
  },
  {
   "cell_type": "markdown",
   "metadata": {},
   "source": [
    "## Predicting prices\n",
    "\n",
    "With the model trained the function 'predict' can be used on the regressor and a predicted value is estimated for 100, 150 and 200 sqm."
   ]
  },
  {
   "cell_type": "code",
   "execution_count": 6,
   "metadata": {},
   "outputs": [
    {
     "name": "stdout",
     "output_type": "stream",
     "text": [
      "A house of 100 sqm is predicted to sell for: 4277477 kr\n",
      "A house of 150 sqm is predicted to sell for: 5367985 kr\n",
      "A house of 200 sqm is predicted to sell for: 6458493 kr\n"
     ]
    }
   ],
   "source": [
    "# Predict sales price of house based on living area\n",
    "\n",
    "prediction_100 = int(regressor.predict([[100]]))\n",
    "prediction_150 = int(regressor.predict([[150]]))\n",
    "prediction_200 = int(regressor.predict([[200]]))\n",
    "\n",
    "print(f'A house of 100 sqm is predicted to sell for: {prediction_100} kr')\n",
    "print(f'A house of 150 sqm is predicted to sell for: {prediction_150} kr')\n",
    "print(f'A house of 200 sqm is predicted to sell for: {prediction_200} kr')"
   ]
  },
  {
   "cell_type": "markdown",
   "metadata": {},
   "source": [
    "## Residuals plot\n",
    "To create a residuals plot we used a package called 'yellowbrick' and visualized the training and test data in the plot below."
   ]
  },
  {
   "cell_type": "code",
   "execution_count": 7,
   "metadata": {},
   "outputs": [
    {
     "data": {
      "image/png": "[encoded data removed]",
      "text/plain": [
       "<Figure size 576x396 with 2 Axes>"
      ]
     },
     "metadata": {},
     "output_type": "display_data"
    },
    {
     "data": {
      "text/plain": [
       "<AxesSubplot:title={'center':'Residuals for Ridge Model'}, xlabel='Predicted Value', ylabel='Residuals'>"
      ]
     },
     "execution_count": 7,
     "metadata": {},
     "output_type": "execute_result"
    }
   ],
   "source": [
    "# Using yellowbrick package to visualize residuals\n",
    "\n",
    "model = Ridge()\n",
    "visualizer = ResidualsPlot(model)\n",
    "\n",
    "visualizer.fit(X_train, y_train)  # Fit the training data to the visualizer\n",
    "visualizer.score(X_test, y_test)  # Evaluate the model on the test data\n",
    "visualizer.show()                 # Finalize and render the figure"
   ]
  },
  {
   "cell_type": "markdown",
   "metadata": {},
   "source": [
    "## Improved performance\n",
    "Additional data would greatly improve the models performance. Both having more data from earlier years and possibly using more factors that was available in the csv. Using data from the columns 'rooms' and 'land size' could help increase the models success in accurately predicting sell price. Also removing outlying data could be of great help to achieve an increase in performance."
   ]
  },
  {
   "cell_type": "code",
   "execution_count": null,
   "metadata": {},
   "outputs": [],
   "source": []
  }
 ],
 "metadata": {
  "kernelspec": {
   "display_name": "Python 3",
   "language": "python",
   "name": "python3"
  },
  "language_info": {
   "codemirror_mode": {
    "name": "ipython",
    "version": 3
   },
   "file_extension": ".py",
   "mimetype": "text/x-python",
   "name": "python",
   "nbconvert_exporter": "python",
   "pygments_lexer": "ipython3",
   "version": "3.8.5"
  }
 },
 "nbformat": 4,
 "nbformat_minor": 4
}
